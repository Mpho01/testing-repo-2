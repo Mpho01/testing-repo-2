{
 "cells": [
  {
   "cell_type": "markdown",
   "metadata": {
    "colab_type": "text",
    "id": "svf8yGJlh-7x"
   },
   "source": [
    "# Intro to Numpy and Pandas\n",
    "\n",
    "© Explore Data Science Academy"
   ]
  },
  {
   "cell_type": "markdown",
   "metadata": {
    "colab_type": "text",
    "id": "Koj4jru5iGWF"
   },
   "source": [
    "# Introduction\n",
    "\n",
    "Python has many packages for working with data and performing various operations such as loading, analysing and storing data. Numpy and Pandas are two of the most commonly used and useful you will come across.In this train, you will learn some of the basic operations in Numpy and Pandas."
   ]
  },
  {
   "cell_type": "markdown",
   "metadata": {
    "colab_type": "text",
    "id": "koscnVMiEAH1"
   },
   "source": [
    "## Learning Objectives:\n",
    "* Learn how to perform basic operations in Numpy\n",
    "* Learn how to perform basic operations in Pandas\n",
    "* Learn how to analyse data using Numpy and Pandas"
   ]
  },
  {
   "cell_type": "markdown",
   "metadata": {
    "colab_type": "text",
    "id": "HC8PPoa55q44"
   },
   "source": [
    "## Numpy"
   ]
  },
  {
   "cell_type": "markdown",
   "metadata": {
    "colab_type": "text",
    "id": "icQHJIvK5q45"
   },
   "source": [
    "Numpy is the core library for scientific computing in Python (see the full documentation which is [available online](https://docs.scipy.org/doc/numpy-1.13.0/reference/)). It provides high-performance multidimensional array objects, and tools for working with them. We will start by defining an array, show how to create an array, show how to access an array, show how to modify an array and look at useful functions on arrays. Finally we will identify when an array should be the chosen data stucture."
   ]
  },
  {
   "cell_type": "markdown",
   "metadata": {
    "colab_type": "text",
    "id": "PYU6ZZqIUSOk"
   },
   "source": [
    "## What is an Array?"
   ]
  },
  {
   "cell_type": "markdown",
   "metadata": {
    "colab_type": "text",
    "id": "P89a4U-3USOn"
   },
   "source": [
    "An array is a data structure that stores values of the same data type. In Python, this is the main difference between arrays and lists. While python lists can contain values corresponding to different data types, arrays in python can only contain values corresponding to same data type. However, in Python, there is no native array data structure, so we can use python lists. \n",
    "\n",
    "An array can be multi-dimensional: "
   ]
  },
  {
   "cell_type": "markdown",
   "metadata": {
    "colab_type": "text",
    "id": "dNUF1bmoUSOn"
   },
   "source": [
    "<img src=\"http://community.datacamp.com.s3.amazonaws.com/community/production/ckeditor_assets/pictures/332/content_arrays-axes.png\">"
   ]
  },
  {
   "cell_type": "markdown",
   "metadata": {
    "colab_type": "text",
    "id": "PmyWZmtUUSOo"
   },
   "source": [
    "Above you can see 1-D, 2-D and 3-D arrays. A 1-D array is essentially a sequence (one row or one column). In a 2-D array you have rows and columns. The rows are indicated as the \"axis 0\" and the columns as the \"axis 1\". The number of the axes corresponds to the number of dimensions. Note that these axes are only valid for arrays that have at least 2 dimensions, as there is no point in having this for 1-D arrays.\n",
    "\n",
    "We can account for multi-dimentional arrays by using lists within lists. \n",
    "\n",
    "However, numpy arrays are stored more efficiently than Python lists and allow mathematical operations to be vectorized, which results in significantly higher performance than with looping constructs in Python."
   ]
  },
  {
   "cell_type": "markdown",
   "metadata": {
    "colab_type": "text",
    "id": "OlGQ-O2RUSOs"
   },
   "source": [
    "## Creating a Numpy Array"
   ]
  },
  {
   "cell_type": "markdown",
   "metadata": {
    "colab_type": "text",
    "id": "j7_mby6AUSOs"
   },
   "source": [
    "If we want to work with any numpy objects or functions we first need to import the numpy library."
   ]
  },
  {
   "cell_type": "code",
   "execution_count": 1,
   "metadata": {
    "colab": {},
    "colab_type": "code",
    "id": "f_QpKB2fUSOt"
   },
   "outputs": [],
   "source": [
    "import numpy as np"
   ]
  },
  {
   "cell_type": "markdown",
   "metadata": {
    "colab_type": "text",
    "id": "lG71kEWvUSOw"
   },
   "source": [
    "To make a numpy array, you can just use the `np.array()` function. All you need to do is pass a list to it and optionally, you can also specify the data type of the data. Let's look at an example:"
   ]
  },
  {
   "cell_type": "code",
   "execution_count": 2,
   "metadata": {
    "colab": {
     "base_uri": "https://localhost:8080/",
     "height": 73
    },
    "colab_type": "code",
    "executionInfo": {
     "elapsed": 3189,
     "status": "ok",
     "timestamp": 1570010749281,
     "user": {
      "displayName": "Jason Webster",
      "photoUrl": "",
      "userId": "13254939673721675351"
     },
     "user_tz": -120
    },
    "id": "dEIe5ZpqUSOx",
    "outputId": "86076777-20bf-4481-a7c5-34a6d0bbb15d"
   },
   "outputs": [
    {
     "data": {
      "text/plain": [
       "array([[94, 89, 63],\n",
       "       [93, 92, 48],\n",
       "       [92, 94, 56]])"
      ]
     },
     "execution_count": 2,
     "metadata": {},
     "output_type": "execute_result"
    }
   ],
   "source": [
    "# Create array by passing in list of list\n",
    "ratings = np.array([[94,89,63], [93,92,48], [92,94,56]])\n",
    "\n",
    "ratings"
   ]
  },
  {
   "cell_type": "markdown",
   "metadata": {
    "colab_type": "text",
    "id": "V62gLwlgUSO4"
   },
   "source": [
    "You can see that there are 3 rows and columns in this array. We can inspect the shape of the array by using the `shape()` function on our array:"
   ]
  },
  {
   "cell_type": "code",
   "execution_count": 3,
   "metadata": {
    "colab": {
     "base_uri": "https://localhost:8080/",
     "height": 36
    },
    "colab_type": "code",
    "executionInfo": {
     "elapsed": 3172,
     "status": "ok",
     "timestamp": 1570010749283,
     "user": {
      "displayName": "Jason Webster",
      "photoUrl": "",
      "userId": "13254939673721675351"
     },
     "user_tz": -120
    },
    "id": "I33aOvTHUSO4",
    "outputId": "12514ca9-5255-409a-ad1c-da9a0cfdbb6f"
   },
   "outputs": [
    {
     "data": {
      "text/plain": [
       "(3, 3)"
      ]
     },
     "execution_count": 3,
     "metadata": {},
     "output_type": "execute_result"
    }
   ],
   "source": [
    "ratings.shape"
   ]
  },
  {
   "cell_type": "markdown",
   "metadata": {
    "colab_type": "text",
    "id": "B4GAU4OWUSO8"
   },
   "source": [
    "Like we stated earlier, it will return a tuple of integers giving the size of the array along each dimension.\n",
    "\n",
    "We can also create arrays using the following functions:\n",
    "\n",
    "* `np.ones()` - array of ones\n",
    "* `np.zeros()` - array of zeros\n",
    "* `np.random.random()` - array with random values\n",
    "\n",
    "Let's look at some examples:"
   ]
  },
  {
   "cell_type": "code",
   "execution_count": 4,
   "metadata": {
    "colab": {
     "base_uri": "https://localhost:8080/",
     "height": 73
    },
    "colab_type": "code",
    "executionInfo": {
     "elapsed": 3157,
     "status": "ok",
     "timestamp": 1570010749285,
     "user": {
      "displayName": "Jason Webster",
      "photoUrl": "",
      "userId": "13254939673721675351"
     },
     "user_tz": -120
    },
    "id": "tgRolrD4USO9",
    "outputId": "ada09d41-109f-4e54-ab48-bea39c88071e"
   },
   "outputs": [
    {
     "data": {
      "text/plain": [
       "array([[1., 1., 1., 1.],\n",
       "       [1., 1., 1., 1.],\n",
       "       [1., 1., 1., 1.]])"
      ]
     },
     "execution_count": 4,
     "metadata": {},
     "output_type": "execute_result"
    }
   ],
   "source": [
    "# Create array of ones - pass in shape as tuple\n",
    "np.ones((3,4))"
   ]
  },
  {
   "cell_type": "code",
   "execution_count": 5,
   "metadata": {
    "colab": {
     "base_uri": "https://localhost:8080/",
     "height": 54
    },
    "colab_type": "code",
    "executionInfo": {
     "elapsed": 3140,
     "status": "ok",
     "timestamp": 1570010749287,
     "user": {
      "displayName": "Jason Webster",
      "photoUrl": "",
      "userId": "13254939673721675351"
     },
     "user_tz": -120
    },
    "id": "AoYEA8IQUSPB",
    "outputId": "82617e36-7198-4828-ffa2-2e09798d6150"
   },
   "outputs": [
    {
     "data": {
      "text/plain": [
       "array([[0., 0., 0.],\n",
       "       [0., 0., 0.]])"
      ]
     },
     "execution_count": 5,
     "metadata": {},
     "output_type": "execute_result"
    }
   ],
   "source": [
    "# Create array of zeros - pass in shape as tuple\n",
    "np.zeros((2,3))"
   ]
  },
  {
   "cell_type": "code",
   "execution_count": 6,
   "metadata": {
    "colab": {
     "base_uri": "https://localhost:8080/",
     "height": 73
    },
    "colab_type": "code",
    "executionInfo": {
     "elapsed": 3121,
     "status": "ok",
     "timestamp": 1570010749288,
     "user": {
      "displayName": "Jason Webster",
      "photoUrl": "",
      "userId": "13254939673721675351"
     },
     "user_tz": -120
    },
    "id": "3rvRf7QIUSPE",
    "outputId": "21f2bfe8-3a07-412f-d7f8-a31e83d93f40"
   },
   "outputs": [
    {
     "data": {
      "text/plain": [
       "array([[0.18020631, 0.05812659, 0.6801626 ],\n",
       "       [0.47128673, 0.5187448 , 0.86380974],\n",
       "       [0.87123085, 0.66194948, 0.14180403]])"
      ]
     },
     "execution_count": 6,
     "metadata": {},
     "output_type": "execute_result"
    }
   ],
   "source": [
    "# Create array of random values - pass in shape as tuple\n",
    "np.random.random((3,3))"
   ]
  },
  {
   "cell_type": "markdown",
   "metadata": {
    "colab_type": "text",
    "id": "LYgB1XSLUSPJ"
   },
   "source": [
    "## Accessing Numpy Arrays"
   ]
  },
  {
   "cell_type": "markdown",
   "metadata": {
    "colab_type": "text",
    "id": "o25xgv8pUSPL"
   },
   "source": [
    "Numpy offers several ways to index into arrays."
   ]
  },
  {
   "cell_type": "markdown",
   "metadata": {
    "colab_type": "text",
    "id": "lNeULiZTUSPM"
   },
   "source": [
    "### Slicing"
   ]
  },
  {
   "cell_type": "markdown",
   "metadata": {
    "colab_type": "text",
    "id": "5cJ2-NkSUSPN"
   },
   "source": [
    "Similar to Python lists, numpy arrays can be sliced. Since arrays may be multi-dimensional, you must specify a slice for each dimension of the array, where the slices per dimension is split by a comma. For a 2-D array the first dimension is the vertical axis while the second dimension is the horizontal axis. For a 2-D array:\n",
    "\n",
    "* np.array[vertical index , horizontal index] - for one element\n",
    "* np.array[vertical start:vertical end , horizontal start:horizontal end] - for more than one element \n",
    "\n",
    "Let's look at a few examples:"
   ]
  },
  {
   "cell_type": "code",
   "execution_count": 7,
   "metadata": {
    "colab": {
     "base_uri": "https://localhost:8080/",
     "height": 73
    },
    "colab_type": "code",
    "executionInfo": {
     "elapsed": 3107,
     "status": "ok",
     "timestamp": 1570010749290,
     "user": {
      "displayName": "Jason Webster",
      "photoUrl": "",
      "userId": "13254939673721675351"
     },
     "user_tz": -120
    },
    "id": "_qNPSYXeUSPO",
    "outputId": "02c0c249-56cb-400b-9288-b022e5134eed"
   },
   "outputs": [
    {
     "data": {
      "text/plain": [
       "array([[94, 89, 63],\n",
       "       [93, 92, 48],\n",
       "       [92, 94, 56]])"
      ]
     },
     "execution_count": 7,
     "metadata": {},
     "output_type": "execute_result"
    }
   ],
   "source": [
    "# Whole array\n",
    "ratings"
   ]
  },
  {
   "cell_type": "code",
   "execution_count": 8,
   "metadata": {
    "colab": {
     "base_uri": "https://localhost:8080/",
     "height": 36
    },
    "colab_type": "code",
    "executionInfo": {
     "elapsed": 3091,
     "status": "ok",
     "timestamp": 1570010749291,
     "user": {
      "displayName": "Jason Webster",
      "photoUrl": "",
      "userId": "13254939673721675351"
     },
     "user_tz": -120
    },
    "id": "DeX287S0USPR",
    "outputId": "5b17637e-2b6c-47da-ef90-e9c66c8df4aa"
   },
   "outputs": [
    {
     "data": {
      "text/plain": [
       "94"
      ]
     },
     "execution_count": 8,
     "metadata": {},
     "output_type": "execute_result"
    }
   ],
   "source": [
    "# Select top left element\n",
    "ratings[0,0]"
   ]
  },
  {
   "cell_type": "code",
   "execution_count": 9,
   "metadata": {
    "colab": {
     "base_uri": "https://localhost:8080/",
     "height": 36
    },
    "colab_type": "code",
    "executionInfo": {
     "elapsed": 3074,
     "status": "ok",
     "timestamp": 1570010749291,
     "user": {
      "displayName": "Jason Webster",
      "photoUrl": "",
      "userId": "13254939673721675351"
     },
     "user_tz": -120
    },
    "id": "m28AIvOjUSPV",
    "outputId": "8c7df3a3-9639-42e2-dc63-9c71f2f53753"
   },
   "outputs": [
    {
     "data": {
      "text/plain": [
       "array([94, 89, 63])"
      ]
     },
     "execution_count": 9,
     "metadata": {},
     "output_type": "execute_result"
    }
   ],
   "source": [
    "# Select first row\n",
    "ratings[0,:]"
   ]
  },
  {
   "cell_type": "code",
   "execution_count": 10,
   "metadata": {
    "colab": {
     "base_uri": "https://localhost:8080/",
     "height": 36
    },
    "colab_type": "code",
    "executionInfo": {
     "elapsed": 3059,
     "status": "ok",
     "timestamp": 1570010749292,
     "user": {
      "displayName": "Jason Webster",
      "photoUrl": "",
      "userId": "13254939673721675351"
     },
     "user_tz": -120
    },
    "id": "JpG5jHXrUSPb",
    "outputId": "34b3a0e2-b57f-44e1-9175-b919bc59ec0b"
   },
   "outputs": [
    {
     "data": {
      "text/plain": [
       "array([94, 93, 92])"
      ]
     },
     "execution_count": 10,
     "metadata": {},
     "output_type": "execute_result"
    }
   ],
   "source": [
    "# Select first column\n",
    "ratings[:,0]"
   ]
  },
  {
   "cell_type": "code",
   "execution_count": 11,
   "metadata": {
    "colab": {
     "base_uri": "https://localhost:8080/",
     "height": 54
    },
    "colab_type": "code",
    "executionInfo": {
     "elapsed": 3041,
     "status": "ok",
     "timestamp": 1570010749292,
     "user": {
      "displayName": "Jason Webster",
      "photoUrl": "",
      "userId": "13254939673721675351"
     },
     "user_tz": -120
    },
    "id": "wWJEyyMuUSPg",
    "outputId": "51fd0a2a-b4c1-4798-c119-f158e85f04fc"
   },
   "outputs": [
    {
     "data": {
      "text/plain": [
       "array([[94, 89],\n",
       "       [93, 92]])"
      ]
     },
     "execution_count": 11,
     "metadata": {},
     "output_type": "execute_result"
    }
   ],
   "source": [
    "# Select first two rows and first two columns\n",
    "ratings[0:2,0:2]"
   ]
  },
  {
   "cell_type": "markdown",
   "metadata": {
    "colab_type": "text",
    "id": "Q6gF_9BZUSPp"
   },
   "source": [
    "### Boolean Array Indexing"
   ]
  },
  {
   "cell_type": "markdown",
   "metadata": {
    "colab_type": "text",
    "id": "Koosa-3DUSPq"
   },
   "source": [
    "Boolean array indexing lets you pick out arbitrary elements of an array. Frequently this type of indexing is used to select the elements of an array that satisfy some condition. The syntax is as follows:\n",
    "\n",
    "* np.array[condition]\n",
    "\n",
    "Let's look at an example:"
   ]
  },
  {
   "cell_type": "code",
   "execution_count": 12,
   "metadata": {
    "colab": {
     "base_uri": "https://localhost:8080/",
     "height": 36
    },
    "colab_type": "code",
    "executionInfo": {
     "elapsed": 3024,
     "status": "ok",
     "timestamp": 1570010749294,
     "user": {
      "displayName": "Jason Webster",
      "photoUrl": "",
      "userId": "13254939673721675351"
     },
     "user_tz": -120
    },
    "id": "HVkxVRR1USPr",
    "outputId": "0bc144e7-b6dd-4e31-9d0b-234c5db4773c"
   },
   "outputs": [
    {
     "data": {
      "text/plain": [
       "array([94, 93, 92, 92, 94])"
      ]
     },
     "execution_count": 12,
     "metadata": {},
     "output_type": "execute_result"
    }
   ],
   "source": [
    "# Select all values greater than 90\n",
    "ratings[ratings > 90]"
   ]
  },
  {
   "cell_type": "markdown",
   "metadata": {
    "colab_type": "text",
    "id": "QAQDTM_nUSPv"
   },
   "source": [
    "## Modifying Numpy Arrays"
   ]
  },
  {
   "cell_type": "markdown",
   "metadata": {
    "colab_type": "text",
    "id": "p77KlCpWUSPv"
   },
   "source": [
    "We will now look at how to add elements to an array followed by how to remove elements from an array."
   ]
  },
  {
   "cell_type": "markdown",
   "metadata": {
    "colab_type": "text",
    "id": "c-ctldPeUSPw"
   },
   "source": [
    "### Adding Elements"
   ]
  },
  {
   "cell_type": "markdown",
   "metadata": {
    "colab_type": "text",
    "id": "7R8JDST5USPx"
   },
   "source": [
    "Adding elemets can be done by using the `np.append()` function. This will add elements to the end of an array. Let's look at an example:"
   ]
  },
  {
   "cell_type": "code",
   "execution_count": 13,
   "metadata": {
    "colab": {
     "base_uri": "https://localhost:8080/",
     "height": 91
    },
    "colab_type": "code",
    "executionInfo": {
     "elapsed": 3010,
     "status": "ok",
     "timestamp": 1570010749295,
     "user": {
      "displayName": "Jason Webster",
      "photoUrl": "",
      "userId": "13254939673721675351"
     },
     "user_tz": -120
    },
    "id": "osuJCjJaUSPy",
    "outputId": "530ce752-160e-4d52-b2fa-808d9f54e912"
   },
   "outputs": [
    {
     "data": {
      "text/plain": [
       "array([[94, 89, 63],\n",
       "       [93, 92, 48],\n",
       "       [92, 94, 56],\n",
       "       [92, 88, 78]])"
      ]
     },
     "execution_count": 13,
     "metadata": {},
     "output_type": "execute_result"
    }
   ],
   "source": [
    "# Append an extra row - note that axis=0\n",
    "ratings_extra_row = np.append(ratings, [[92, 88, 78]], axis=0)\n",
    "\n",
    "ratings_extra_row"
   ]
  },
  {
   "cell_type": "markdown",
   "metadata": {
    "colab_type": "text",
    "id": "876HMnm_USP0"
   },
   "source": [
    "### Removing Elements"
   ]
  },
  {
   "cell_type": "markdown",
   "metadata": {
    "colab_type": "text",
    "id": "6Qg5kA5WUSP2"
   },
   "source": [
    "Deleting elemets can be done by using the `np.delete()` function. This will delete elements at the specified indices. Let's look at an example:"
   ]
  },
  {
   "cell_type": "code",
   "execution_count": 14,
   "metadata": {
    "colab": {
     "base_uri": "https://localhost:8080/",
     "height": 54
    },
    "colab_type": "code",
    "executionInfo": {
     "elapsed": 2995,
     "status": "ok",
     "timestamp": 1570010749295,
     "user": {
      "displayName": "Jason Webster",
      "photoUrl": "",
      "userId": "13254939673721675351"
     },
     "user_tz": -120
    },
    "id": "jeI5fDBVUSP3",
    "outputId": "438fd6a1-87a1-4776-8b2f-79afda528040"
   },
   "outputs": [
    {
     "data": {
      "text/plain": [
       "array([[94, 89, 63],\n",
       "       [93, 92, 48]])"
      ]
     },
     "execution_count": 14,
     "metadata": {},
     "output_type": "execute_result"
    }
   ],
   "source": [
    "# Delete the 3rd row - note that axis=0\n",
    "ratings_del_row = np.delete(ratings, [2], axis=0)\n",
    "\n",
    "ratings_del_row"
   ]
  },
  {
   "cell_type": "code",
   "execution_count": 15,
   "metadata": {
    "colab": {
     "base_uri": "https://localhost:8080/",
     "height": 36
    },
    "colab_type": "code",
    "executionInfo": {
     "elapsed": 2982,
     "status": "ok",
     "timestamp": 1570010749297,
     "user": {
      "displayName": "Jason Webster",
      "photoUrl": "",
      "userId": "13254939673721675351"
     },
     "user_tz": -120
    },
    "id": "e4ulultdUSP8",
    "outputId": "135b2ea7-20e3-4951-8ba0-0518016b33ba"
   },
   "outputs": [
    {
     "data": {
      "text/plain": [
       "82.0"
      ]
     },
     "execution_count": 15,
     "metadata": {},
     "output_type": "execute_result"
    }
   ],
   "source": [
    "ratings[0].mean()"
   ]
  },
  {
   "cell_type": "markdown",
   "metadata": {
    "colab_type": "text",
    "id": "OqywBFSIUSQB"
   },
   "source": [
    "## Functions on Numpy Arrays"
   ]
  },
  {
   "cell_type": "markdown",
   "metadata": {
    "colab_type": "text",
    "id": "gcdbkK9LUSQD"
   },
   "source": [
    "There are various functions we can perform on numpy arrays. We will look at a few of them, namely:\n",
    "\n",
    "* `np.array.sum()`\n",
    "* `np.array.min()`\n",
    "* `np.array.max()`\n",
    "\n",
    "In all these functions we can pass an axis argument. This will allow us to sum the columns and rows separately. Let's look at examples:"
   ]
  },
  {
   "cell_type": "code",
   "execution_count": 16,
   "metadata": {
    "colab": {
     "base_uri": "https://localhost:8080/",
     "height": 36
    },
    "colab_type": "code",
    "executionInfo": {
     "elapsed": 2967,
     "status": "ok",
     "timestamp": 1570010749297,
     "user": {
      "displayName": "Jason Webster",
      "photoUrl": "",
      "userId": "13254939673721675351"
     },
     "user_tz": -120
    },
    "id": "BTs7yDM0USQE",
    "outputId": "aed0f155-e970-468c-932e-5ea81f31aab0"
   },
   "outputs": [
    {
     "data": {
      "text/plain": [
       "721"
      ]
     },
     "execution_count": 16,
     "metadata": {},
     "output_type": "execute_result"
    }
   ],
   "source": [
    "# Sum of all elements in array\n",
    "ratings.sum()"
   ]
  },
  {
   "cell_type": "code",
   "execution_count": 17,
   "metadata": {
    "colab": {
     "base_uri": "https://localhost:8080/",
     "height": 36
    },
    "colab_type": "code",
    "executionInfo": {
     "elapsed": 2952,
     "status": "ok",
     "timestamp": 1570010749298,
     "user": {
      "displayName": "Jason Webster",
      "photoUrl": "",
      "userId": "13254939673721675351"
     },
     "user_tz": -120
    },
    "id": "o4rwmLTRUSQL",
    "outputId": "341f180c-1ff2-43d1-8b7b-59b8dc69ac38"
   },
   "outputs": [
    {
     "data": {
      "text/plain": [
       "array([246, 233, 242])"
      ]
     },
     "execution_count": 17,
     "metadata": {},
     "output_type": "execute_result"
    }
   ],
   "source": [
    "# Sum of each row\n",
    "ratings.sum(axis=1)"
   ]
  },
  {
   "cell_type": "code",
   "execution_count": 18,
   "metadata": {
    "colab": {
     "base_uri": "https://localhost:8080/",
     "height": 36
    },
    "colab_type": "code",
    "executionInfo": {
     "elapsed": 2938,
     "status": "ok",
     "timestamp": 1570010749298,
     "user": {
      "displayName": "Jason Webster",
      "photoUrl": "",
      "userId": "13254939673721675351"
     },
     "user_tz": -120
    },
    "id": "w8Qc0ppkUSQQ",
    "outputId": "aef0226a-7abd-4efb-9909-9569bc31d741"
   },
   "outputs": [
    {
     "data": {
      "text/plain": [
       "array([63, 48, 56])"
      ]
     },
     "execution_count": 18,
     "metadata": {},
     "output_type": "execute_result"
    }
   ],
   "source": [
    "# Min of each row\n",
    "ratings.min(axis=1)"
   ]
  },
  {
   "cell_type": "code",
   "execution_count": 19,
   "metadata": {
    "colab": {
     "base_uri": "https://localhost:8080/",
     "height": 36
    },
    "colab_type": "code",
    "executionInfo": {
     "elapsed": 2925,
     "status": "ok",
     "timestamp": 1570010749299,
     "user": {
      "displayName": "Jason Webster",
      "photoUrl": "",
      "userId": "13254939673721675351"
     },
     "user_tz": -120
    },
    "id": "YKC2hdZvUSQU",
    "outputId": "f22433f8-bf3d-4b0c-f780-d6a58aad8bf3"
   },
   "outputs": [
    {
     "data": {
      "text/plain": [
       "array([94, 94, 63])"
      ]
     },
     "execution_count": 19,
     "metadata": {},
     "output_type": "execute_result"
    }
   ],
   "source": [
    "# Max of each column\n",
    "ratings.max(axis=0)"
   ]
  },
  {
   "cell_type": "code",
   "execution_count": 20,
   "metadata": {
    "colab": {
     "base_uri": "https://localhost:8080/",
     "height": 36
    },
    "colab_type": "code",
    "executionInfo": {
     "elapsed": 2911,
     "status": "ok",
     "timestamp": 1570010749300,
     "user": {
      "displayName": "Jason Webster",
      "photoUrl": "",
      "userId": "13254939673721675351"
     },
     "user_tz": -120
    },
    "id": "0YRsNU3KUSQb",
    "outputId": "c88a45d9-c6b6-46c8-d8dc-045682cd2a05"
   },
   "outputs": [
    {
     "data": {
      "text/plain": [
       "[array([94, 89, 63]), array([93, 92, 48]), array([92, 94, 56])]"
      ]
     },
     "execution_count": 20,
     "metadata": {},
     "output_type": "execute_result"
    }
   ],
   "source": [
    "list(ratings)"
   ]
  },
  {
   "cell_type": "markdown",
   "metadata": {
    "colab_type": "text",
    "id": "GswUl9wlUSQf"
   },
   "source": [
    "## When to use Numpy Arrays"
   ]
  },
  {
   "cell_type": "markdown",
   "metadata": {
    "colab_type": "text",
    "id": "-rtg2uN7USQf"
   },
   "source": [
    "A numpy array is a grid of values, all of the same type, and is indexed by a tuple of non-negative integers. We should use a numpy array if all of the following statements hold:\n",
    "\n",
    "* We have multi-dimensional data\n",
    "* All entries are of the same data type\n",
    "\n",
    "Numpy arrays are also preferred over list of lists due to efficiency and functionality."
   ]
  },
  {
   "cell_type": "markdown",
   "metadata": {
    "colab_type": "text",
    "id": "5vELllkBUflg"
   },
   "source": [
    "# Pandas Dataframes"
   ]
  },
  {
   "cell_type": "markdown",
   "metadata": {
    "colab_type": "text",
    "id": "DBRbqXnOUfli"
   },
   "source": [
    "In this section we will look at `pandas dataframes`, which is most commenly used for any python data analysis. We will define what a pandas dataframe is, show how to create dataframes and show how to access dataframes. "
   ]
  },
  {
   "cell_type": "markdown",
   "metadata": {
    "colab_type": "text",
    "id": "q9bz7fpFUflj"
   },
   "source": [
    "## What is a Pandas Dataframe?"
   ]
  },
  {
   "cell_type": "markdown",
   "metadata": {
    "colab_type": "text",
    "id": "ZU5Ml_TDUflk"
   },
   "source": [
    "Pandas is a high-level data manipulation tool. It is built on the Numpy package and its key data structure is called the `DataFrame`. `DataFrames` allow you to store and manipulate tabular data in rows of observations and columns of variables. It is therefore a two-dimensional labeled data structure. \n",
    "\n",
    "<img src=\"https://www.w3resource.com/w3r_images/pandas-data-structure.svg\">\n",
    "\n",
    "Basically you could say that the `Pandas DataFrame` consists of three main components: the data, index, and columns. \n",
    "\n",
    "**Data**\n",
    "\n",
    "The data can consist of:\n",
    "\n",
    "* Pandas DataFrames\n",
    "* Pandas Series - a one-dimensional labeled array capable of holding any data type with axis labels or index.\n",
    "* Numpy arrays\n",
    "* Dictionaries \n",
    "* Lists\n",
    "* Files\n",
    "\n",
    "**Index**\n",
    "\n",
    "The indices refer to the difference in the rows. On the graphic it is on axis 0.\n",
    "\n",
    "**Columns**\n",
    "\n",
    "The columns refer to the difference in column names. On the graphic it is on axis 1. Each column must be of the same data type."
   ]
  },
  {
   "cell_type": "markdown",
   "metadata": {
    "colab_type": "text",
    "id": "x2BQmJVvUfll"
   },
   "source": [
    "## Creating a Dataframe"
   ]
  },
  {
   "cell_type": "markdown",
   "metadata": {
    "colab_type": "text",
    "id": "EmeAMFKrUfln"
   },
   "source": [
    "We can create a dataframe by using the `DataFrame()` function. The main arguments in the function are the data, index and columns. The data that is passed in can be in the form of other data structures (lists, dictionaries or numpy arrays) or by loading in a file.\n",
    "\n",
    "But first we need to import the pandas library:"
   ]
  },
  {
   "cell_type": "code",
   "execution_count": 21,
   "metadata": {
    "colab": {},
    "colab_type": "code",
    "id": "hN9yUVwFUflo"
   },
   "outputs": [],
   "source": [
    "import pandas as pd"
   ]
  },
  {
   "cell_type": "markdown",
   "metadata": {
    "colab_type": "text",
    "id": "FU6ZkWTBUfls"
   },
   "source": [
    "### From other Data Structures"
   ]
  },
  {
   "cell_type": "markdown",
   "metadata": {
    "colab_type": "text",
    "id": "VLy6ChqBUfls"
   },
   "source": [
    "Using **lists**, we need to create a list of lists with the relevant data. We then also need to pass an index (player names) and column names."
   ]
  },
  {
   "cell_type": "code",
   "execution_count": 22,
   "metadata": {
    "colab": {
     "base_uri": "https://localhost:8080/",
     "height": 143
    },
    "colab_type": "code",
    "executionInfo": {
     "elapsed": 2890,
     "status": "ok",
     "timestamp": 1570010749301,
     "user": {
      "displayName": "Jason Webster",
      "photoUrl": "",
      "userId": "13254939673721675351"
     },
     "user_tz": -120
    },
    "id": "MxJ9CYPUUflu",
    "outputId": "b0fd193e-1740-4151-837c-cb1c4698c882"
   },
   "outputs": [
    {
     "data": {
      "text/html": [
       "<div>\n",
       "<style scoped>\n",
       "    .dataframe tbody tr th:only-of-type {\n",
       "        vertical-align: middle;\n",
       "    }\n",
       "\n",
       "    .dataframe tbody tr th {\n",
       "        vertical-align: top;\n",
       "    }\n",
       "\n",
       "    .dataframe thead th {\n",
       "        text-align: right;\n",
       "    }\n",
       "</style>\n",
       "<table border=\"1\" class=\"dataframe\">\n",
       "  <thead>\n",
       "    <tr style=\"text-align: right;\">\n",
       "      <th></th>\n",
       "      <th>Age</th>\n",
       "      <th>Nationality</th>\n",
       "      <th>Overall</th>\n",
       "    </tr>\n",
       "  </thead>\n",
       "  <tbody>\n",
       "    <tr>\n",
       "      <th>Christiano Ronaldo</th>\n",
       "      <td>32</td>\n",
       "      <td>Portugal</td>\n",
       "      <td>94</td>\n",
       "    </tr>\n",
       "    <tr>\n",
       "      <th>Lionel Messi</th>\n",
       "      <td>30</td>\n",
       "      <td>Argentina</td>\n",
       "      <td>93</td>\n",
       "    </tr>\n",
       "    <tr>\n",
       "      <th>Neymar</th>\n",
       "      <td>25</td>\n",
       "      <td>Brazil</td>\n",
       "      <td>92</td>\n",
       "    </tr>\n",
       "  </tbody>\n",
       "</table>\n",
       "</div>"
      ],
      "text/plain": [
       "                    Age Nationality  Overall\n",
       "Christiano Ronaldo   32    Portugal       94\n",
       "Lionel Messi         30   Argentina       93\n",
       "Neymar               25      Brazil       92"
      ]
     },
     "execution_count": 22,
     "metadata": {},
     "output_type": "execute_result"
    }
   ],
   "source": [
    "# Create list of lists containing data\n",
    "list_df = [[32, 'Portugal', 94], [30, 'Argentina', 93], [25 , 'Brazil', 92]]\n",
    "\n",
    "# Create index - names of players\n",
    "index = ['Christiano Ronaldo', 'Lionel Messi', 'Neymar']\n",
    "\n",
    "# Create column names \n",
    "columns = ['Age', 'Nationality', 'Overall']\n",
    "\n",
    "# Create dataframe by passing in data, index and columns\n",
    "pd.DataFrame(data=list_df, index=index, columns=columns)"
   ]
  },
  {
   "cell_type": "markdown",
   "metadata": {
    "colab_type": "text",
    "id": "fLZgC8ulUfly"
   },
   "source": [
    "Using **dictionaries**, we need to create a dictionary with the relevant data. The keys should be the column names while the values should be the data entries for that column. We then also need to pass an index (player names). Note that because the keys account for the column names we don't have to pass in an argument for columns."
   ]
  },
  {
   "cell_type": "code",
   "execution_count": 23,
   "metadata": {
    "colab": {
     "base_uri": "https://localhost:8080/",
     "height": 143
    },
    "colab_type": "code",
    "executionInfo": {
     "elapsed": 2868,
     "status": "ok",
     "timestamp": 1570010749301,
     "user": {
      "displayName": "Jason Webster",
      "photoUrl": "",
      "userId": "13254939673721675351"
     },
     "user_tz": -120
    },
    "id": "-C3i-bGLUflz",
    "outputId": "8483dc94-cc15-4a27-c96a-44209b9db40b"
   },
   "outputs": [
    {
     "data": {
      "text/html": [
       "<div>\n",
       "<style scoped>\n",
       "    .dataframe tbody tr th:only-of-type {\n",
       "        vertical-align: middle;\n",
       "    }\n",
       "\n",
       "    .dataframe tbody tr th {\n",
       "        vertical-align: top;\n",
       "    }\n",
       "\n",
       "    .dataframe thead th {\n",
       "        text-align: right;\n",
       "    }\n",
       "</style>\n",
       "<table border=\"1\" class=\"dataframe\">\n",
       "  <thead>\n",
       "    <tr style=\"text-align: right;\">\n",
       "      <th></th>\n",
       "      <th>Age</th>\n",
       "      <th>Nationality</th>\n",
       "      <th>Overall</th>\n",
       "    </tr>\n",
       "  </thead>\n",
       "  <tbody>\n",
       "    <tr>\n",
       "      <th>Christiano Ronaldo</th>\n",
       "      <td>32</td>\n",
       "      <td>Portugal</td>\n",
       "      <td>94</td>\n",
       "    </tr>\n",
       "    <tr>\n",
       "      <th>Lionel Messi</th>\n",
       "      <td>30</td>\n",
       "      <td>Argentina</td>\n",
       "      <td>93</td>\n",
       "    </tr>\n",
       "    <tr>\n",
       "      <th>Neymar</th>\n",
       "      <td>25</td>\n",
       "      <td>Brazil</td>\n",
       "      <td>92</td>\n",
       "    </tr>\n",
       "  </tbody>\n",
       "</table>\n",
       "</div>"
      ],
      "text/plain": [
       "                    Age Nationality  Overall\n",
       "Christiano Ronaldo   32    Portugal       94\n",
       "Lionel Messi         30   Argentina       93\n",
       "Neymar               25      Brazil       92"
      ]
     },
     "execution_count": 23,
     "metadata": {},
     "output_type": "execute_result"
    }
   ],
   "source": [
    "# Create dictionary containing data\n",
    "dict_df = {'Age':[32, 30, 25], 'Nationality':['Portugal', 'Argentina', 'Brazil'], 'Overall':[94, 93, 92]}\n",
    "\n",
    "# Create index - names of players\n",
    "index = ['Christiano Ronaldo', 'Lionel Messi', 'Neymar']\n",
    "\n",
    "# Create dataframe by passing in data, index and columns\n",
    "pd.DataFrame(data=dict_df, index=index)"
   ]
  },
  {
   "cell_type": "markdown",
   "metadata": {
    "colab_type": "text",
    "id": "UtBnrFWZUfl2"
   },
   "source": [
    "Using **numpy arrays**, we need to create a numpy array with the relevant data. We then also need to pass an index (player names) and column names."
   ]
  },
  {
   "cell_type": "code",
   "execution_count": 24,
   "metadata": {
    "colab": {
     "base_uri": "https://localhost:8080/",
     "height": 143
    },
    "colab_type": "code",
    "executionInfo": {
     "elapsed": 2855,
     "status": "ok",
     "timestamp": 1570010749302,
     "user": {
      "displayName": "Jason Webster",
      "photoUrl": "",
      "userId": "13254939673721675351"
     },
     "user_tz": -120
    },
    "id": "B3ZQXLVnUfl3",
    "outputId": "733e91fb-5255-450e-db49-433098b02cb8"
   },
   "outputs": [
    {
     "data": {
      "text/html": [
       "<div>\n",
       "<style scoped>\n",
       "    .dataframe tbody tr th:only-of-type {\n",
       "        vertical-align: middle;\n",
       "    }\n",
       "\n",
       "    .dataframe tbody tr th {\n",
       "        vertical-align: top;\n",
       "    }\n",
       "\n",
       "    .dataframe thead th {\n",
       "        text-align: right;\n",
       "    }\n",
       "</style>\n",
       "<table border=\"1\" class=\"dataframe\">\n",
       "  <thead>\n",
       "    <tr style=\"text-align: right;\">\n",
       "      <th></th>\n",
       "      <th>Age</th>\n",
       "      <th>Nationality</th>\n",
       "      <th>Overall</th>\n",
       "    </tr>\n",
       "  </thead>\n",
       "  <tbody>\n",
       "    <tr>\n",
       "      <th>Christiano Ronaldo</th>\n",
       "      <td>32</td>\n",
       "      <td>Portugal</td>\n",
       "      <td>94</td>\n",
       "    </tr>\n",
       "    <tr>\n",
       "      <th>Lionel Messi</th>\n",
       "      <td>30</td>\n",
       "      <td>Argentina</td>\n",
       "      <td>93</td>\n",
       "    </tr>\n",
       "    <tr>\n",
       "      <th>Neymar</th>\n",
       "      <td>25</td>\n",
       "      <td>Brazil</td>\n",
       "      <td>92</td>\n",
       "    </tr>\n",
       "  </tbody>\n",
       "</table>\n",
       "</div>"
      ],
      "text/plain": [
       "                   Age Nationality Overall\n",
       "Christiano Ronaldo  32    Portugal      94\n",
       "Lionel Messi        30   Argentina      93\n",
       "Neymar              25      Brazil      92"
      ]
     },
     "execution_count": 24,
     "metadata": {},
     "output_type": "execute_result"
    }
   ],
   "source": [
    "import numpy as np\n",
    "\n",
    "# Create numpy array containing data\n",
    "array_df = np.array([[32, 'Portugal', 94], [30, 'Argentina', 93], [25 , 'Brazil', 92]])\n",
    "\n",
    "# Create index - names of players\n",
    "index = ['Christiano Ronaldo', 'Lionel Messi', 'Neymar']\n",
    "\n",
    "# Create column names \n",
    "columns = ['Age', 'Nationality', 'Overall']\n",
    "\n",
    "# Create dataframe by passing in data, index and columns\n",
    "pd.DataFrame(data=array_df, index=index, columns=columns)"
   ]
  },
  {
   "cell_type": "markdown",
   "metadata": {
    "colab_type": "text",
    "id": "u7y1SYPOUfl6"
   },
   "source": [
    "### Loading a File"
   ]
  },
  {
   "cell_type": "markdown",
   "metadata": {
    "colab_type": "text",
    "id": "-0BFkukHUfl7"
   },
   "source": [
    "The data argument can also be a loaded file. We will load the full csv file. Pandas makes it very easy to do this, you simply load the data using the `read_csv()` function and pass in the name of the file as a string.\n",
    "\n",
    "Pandas will use the first row as columns so we don't need to pass column names. We can also specify the index when we load the data by passing our index column as a string under the index_col argument.\n",
    "\n",
    "Note: The csv file can be found under the additional material for this tutorial. Unzip the file and make sure to put it in the same directory as this notebook."
   ]
  },
  {
   "cell_type": "code",
   "execution_count": 25,
   "metadata": {
    "colab": {
     "base_uri": "https://localhost:8080/",
     "height": 357
    },
    "colab_type": "code",
    "executionInfo": {
     "elapsed": 6706,
     "status": "ok",
     "timestamp": 1576073308723,
     "user": {
      "displayName": "Jaco Jansen van Rensburg",
      "photoUrl": "https://lh3.googleusercontent.com/a-/AAuE7mCyUCooH9neSO5bRWAUZIaMyj_CjWK2Se5D6WhL4Ox_5EPrADE4v_WKMtXkLT3Xeq0x5chsKbYVk5np_X0BsH2Q5tUiyXWPnoK4WYG502N5qNJ3Dyqgy5bLfJCo95v4A_sYAkDgYD0THBN8Wcq7j000twTiOw-OQ4X14EEzsB1APi7wVLivrQ2n7Yu1sJZTk-Wz8Ol7tpiI_g6hLzMANMMpt4TLlsxA2v4zNARiXAplSe_wCVEMupzjmFVU3JsBhoHuVH-vkYRXKP5Zj4WUdCVfRr58ztlwLn0eUWBOKUkPjaghhI6a4DiCb5JLYpDPVuvd7UU2RCJu95LDtZzEhpv9W8rR1gbbudqKkD1_E6QnSOf4HxCIwOS8Ko3jC9SqpML6aXM0n2mLkurdpY97zL32bVA2AWxQ85C8M3sV-7ak-UGwYAviOIw28GWJJkPW36HFAgglBi40hoorSVwWbZioTUm3abdGOs4_2cIASADXj00tB_n6brWq-JyiGzQb-ISKQALdwn8qdE9HFSKJLqZMDel-MU42P_45CdBhOdyTr-T7E2M2HgeUbdS29KzzST5IVHUW-dkrmErsjOFh0dlYP682948b0HHzpP_WYxcBOPJ_Vf_dg61paVL1mGyoP5RKf0p0No4RjgdvU12mYIndXO461sewy0OnYiCeKsmBNLLRikHsDwHi1RB4lYlUxDOTv9E3WSqmk20VG1kH-04D5NsYK8vBKPL4DM-rIgjunS_cIiRXKUCtodazqKw=s64",
      "userId": "01218210993586806259"
     },
     "user_tz": -120
    },
    "id": "ZOI9OG_4Ufl8",
    "outputId": "d0d4d6d7-fbbd-4141-cb8e-ad6c2113cc75"
   },
   "outputs": [
    {
     "name": "stderr",
     "output_type": "stream",
     "text": [
      "C:\\Users\\User\\Anaconda3\\lib\\site-packages\\IPython\\core\\interactiveshell.py:3020: DtypeWarning: Columns (14,26) have mixed types. Specify dtype option on import or set low_memory=False.\n",
      "  interactivity=interactivity, compiler=compiler, result=result)\n"
     ]
    },
    {
     "data": {
      "text/html": [
       "<div>\n",
       "<style scoped>\n",
       "    .dataframe tbody tr th:only-of-type {\n",
       "        vertical-align: middle;\n",
       "    }\n",
       "\n",
       "    .dataframe tbody tr th {\n",
       "        vertical-align: top;\n",
       "    }\n",
       "\n",
       "    .dataframe thead th {\n",
       "        text-align: right;\n",
       "    }\n",
       "</style>\n",
       "<table border=\"1\" class=\"dataframe\">\n",
       "  <thead>\n",
       "    <tr style=\"text-align: right;\">\n",
       "      <th></th>\n",
       "      <th>Age</th>\n",
       "      <th>Nationality</th>\n",
       "      <th>Overall</th>\n",
       "      <th>Acceleration</th>\n",
       "      <th>Aggression</th>\n",
       "      <th>Agility</th>\n",
       "      <th>Balance</th>\n",
       "      <th>Ball control</th>\n",
       "      <th>Composure</th>\n",
       "      <th>Crossing</th>\n",
       "      <th>...</th>\n",
       "      <th>Short passing</th>\n",
       "      <th>Shot power</th>\n",
       "      <th>Sliding tackle</th>\n",
       "      <th>Sprint speed</th>\n",
       "      <th>Stamina</th>\n",
       "      <th>Standing tackle</th>\n",
       "      <th>Strength</th>\n",
       "      <th>Vision</th>\n",
       "      <th>Volleys</th>\n",
       "      <th>Preferred Positions</th>\n",
       "    </tr>\n",
       "    <tr>\n",
       "      <th>Name</th>\n",
       "      <th></th>\n",
       "      <th></th>\n",
       "      <th></th>\n",
       "      <th></th>\n",
       "      <th></th>\n",
       "      <th></th>\n",
       "      <th></th>\n",
       "      <th></th>\n",
       "      <th></th>\n",
       "      <th></th>\n",
       "      <th></th>\n",
       "      <th></th>\n",
       "      <th></th>\n",
       "      <th></th>\n",
       "      <th></th>\n",
       "      <th></th>\n",
       "      <th></th>\n",
       "      <th></th>\n",
       "      <th></th>\n",
       "      <th></th>\n",
       "      <th></th>\n",
       "    </tr>\n",
       "  </thead>\n",
       "  <tbody>\n",
       "    <tr>\n",
       "      <th>Cristiano Ronaldo</th>\n",
       "      <td>32</td>\n",
       "      <td>Portugal</td>\n",
       "      <td>94</td>\n",
       "      <td>89</td>\n",
       "      <td>63</td>\n",
       "      <td>89</td>\n",
       "      <td>63</td>\n",
       "      <td>93</td>\n",
       "      <td>95</td>\n",
       "      <td>85</td>\n",
       "      <td>...</td>\n",
       "      <td>83</td>\n",
       "      <td>94</td>\n",
       "      <td>23</td>\n",
       "      <td>91</td>\n",
       "      <td>92</td>\n",
       "      <td>31</td>\n",
       "      <td>80</td>\n",
       "      <td>85</td>\n",
       "      <td>88</td>\n",
       "      <td>ST LW</td>\n",
       "    </tr>\n",
       "    <tr>\n",
       "      <th>L. Messi</th>\n",
       "      <td>30</td>\n",
       "      <td>Argentina</td>\n",
       "      <td>93</td>\n",
       "      <td>92</td>\n",
       "      <td>48</td>\n",
       "      <td>90</td>\n",
       "      <td>95</td>\n",
       "      <td>95</td>\n",
       "      <td>96</td>\n",
       "      <td>77</td>\n",
       "      <td>...</td>\n",
       "      <td>88</td>\n",
       "      <td>85</td>\n",
       "      <td>26</td>\n",
       "      <td>87</td>\n",
       "      <td>73</td>\n",
       "      <td>28</td>\n",
       "      <td>59</td>\n",
       "      <td>90</td>\n",
       "      <td>85</td>\n",
       "      <td>RW</td>\n",
       "    </tr>\n",
       "    <tr>\n",
       "      <th>Neymar</th>\n",
       "      <td>25</td>\n",
       "      <td>Brazil</td>\n",
       "      <td>92</td>\n",
       "      <td>94</td>\n",
       "      <td>56</td>\n",
       "      <td>96</td>\n",
       "      <td>82</td>\n",
       "      <td>95</td>\n",
       "      <td>92</td>\n",
       "      <td>75</td>\n",
       "      <td>...</td>\n",
       "      <td>81</td>\n",
       "      <td>80</td>\n",
       "      <td>33</td>\n",
       "      <td>90</td>\n",
       "      <td>78</td>\n",
       "      <td>24</td>\n",
       "      <td>53</td>\n",
       "      <td>80</td>\n",
       "      <td>83</td>\n",
       "      <td>LW</td>\n",
       "    </tr>\n",
       "    <tr>\n",
       "      <th>L. Suárez</th>\n",
       "      <td>30</td>\n",
       "      <td>Uruguay</td>\n",
       "      <td>92</td>\n",
       "      <td>88</td>\n",
       "      <td>78</td>\n",
       "      <td>86</td>\n",
       "      <td>60</td>\n",
       "      <td>91</td>\n",
       "      <td>83</td>\n",
       "      <td>77</td>\n",
       "      <td>...</td>\n",
       "      <td>83</td>\n",
       "      <td>87</td>\n",
       "      <td>38</td>\n",
       "      <td>77</td>\n",
       "      <td>89</td>\n",
       "      <td>45</td>\n",
       "      <td>80</td>\n",
       "      <td>84</td>\n",
       "      <td>88</td>\n",
       "      <td>ST</td>\n",
       "    </tr>\n",
       "    <tr>\n",
       "      <th>M. Neuer</th>\n",
       "      <td>31</td>\n",
       "      <td>Germany</td>\n",
       "      <td>92</td>\n",
       "      <td>58</td>\n",
       "      <td>29</td>\n",
       "      <td>52</td>\n",
       "      <td>35</td>\n",
       "      <td>48</td>\n",
       "      <td>70</td>\n",
       "      <td>15</td>\n",
       "      <td>...</td>\n",
       "      <td>55</td>\n",
       "      <td>25</td>\n",
       "      <td>11</td>\n",
       "      <td>61</td>\n",
       "      <td>44</td>\n",
       "      <td>10</td>\n",
       "      <td>83</td>\n",
       "      <td>70</td>\n",
       "      <td>11</td>\n",
       "      <td>GK</td>\n",
       "    </tr>\n",
       "  </tbody>\n",
       "</table>\n",
       "<p>5 rows × 38 columns</p>\n",
       "</div>"
      ],
      "text/plain": [
       "                   Age Nationality  Overall Acceleration Aggression Agility  \\\n",
       "Name                                                                          \n",
       "Cristiano Ronaldo   32    Portugal       94       89         63      89       \n",
       "L. Messi            30   Argentina       93       92         48      90       \n",
       "Neymar              25      Brazil       92       94         56      96       \n",
       "L. Suárez           30     Uruguay       92       88         78      86       \n",
       "M. Neuer            31     Germany       92       58         29      52       \n",
       "\n",
       "                  Balance Ball control Composure Crossing  ... Short passing  \\\n",
       "Name                                                       ...                 \n",
       "Cristiano Ronaldo  63           93        95       85      ...        83       \n",
       "L. Messi           95           95        96       77      ...        88       \n",
       "Neymar             82           95        92       75      ...        81       \n",
       "L. Suárez          60           91        83       77      ...        83       \n",
       "M. Neuer           35           48        70       15      ...        55       \n",
       "\n",
       "                  Shot power Sliding tackle Sprint speed Stamina  \\\n",
       "Name                                                               \n",
       "Cristiano Ronaldo     94             23           91      92       \n",
       "L. Messi              85             26           87      73       \n",
       "Neymar                80             33           90      78       \n",
       "L. Suárez             87             38           77      89       \n",
       "M. Neuer              25             11           61      44       \n",
       "\n",
       "                  Standing tackle Strength  Vision Volleys Preferred Positions  \n",
       "Name                                                                            \n",
       "Cristiano Ronaldo          31       80      85      88                  ST LW   \n",
       "L. Messi                   28       59      90      85                     RW   \n",
       "Neymar                     24       53      80      83                     LW   \n",
       "L. Suárez                  45       80      84      88                     ST   \n",
       "M. Neuer                   10       83      70      11                     GK   \n",
       "\n",
       "[5 rows x 38 columns]"
      ]
     },
     "execution_count": 25,
     "metadata": {},
     "output_type": "execute_result"
    }
   ],
   "source": [
    "# Load data - pass 'Name' as our index column\n",
    "load_df = pd.read_csv('https://raw.githubusercontent.com/Explore-AI/Public-Data/master/Data/fundamentals/football_players.csv', index_col='Name')\n",
    "\n",
    "# Create dataframe called df\n",
    "df = pd.DataFrame(load_df)\n",
    "\n",
    "# Use the head() function to look at the first 5 rows\n",
    "df.head()"
   ]
  },
  {
   "cell_type": "markdown",
   "metadata": {
    "colab_type": "text",
    "id": "PIMnHhyAUfl_"
   },
   "source": [
    "For the first time we have access to our whole Fifa 2018 player dataset. You may have noticed that we used the `head()` function to only look at the first 5 records of our data. This is helpful if the dataframe has many rows and loading it will take lots of time."
   ]
  },
  {
   "cell_type": "markdown",
   "metadata": {
    "colab_type": "text",
    "id": "WnmBuHeoUfmA"
   },
   "source": [
    "## Accessing Dataframes"
   ]
  },
  {
   "cell_type": "markdown",
   "metadata": {
    "colab_type": "text",
    "id": "TG5es_IvUfmB"
   },
   "source": [
    "Accessing dataframes is not as straightforward as with the previous data structures."
   ]
  },
  {
   "cell_type": "markdown",
   "metadata": {
    "colab_type": "text",
    "id": "89wcbsPvUfmC"
   },
   "source": [
    "### By Index"
   ]
  },
  {
   "cell_type": "markdown",
   "metadata": {
    "colab_type": "text",
    "id": "k9mUHS5fUfmC"
   },
   "source": [
    "To access by index only in a dataframe we can use the `iloc` or `loc` functions with the indices in square brackets. The `iloc` function refers to the index location, so we pass in the number of the index, while the `loc` function refers to the name of the index, so we pass in the index name. Use slicing if you want more than one index. Eg:\n",
    "\n",
    "* dataframe.iloc[index no] - returns series at index no\n",
    "* dataframe.iloc[index no start: index no end] - returns dataframe from start no to end no (end not included)\n",
    "* dataframe.loc['index name'] - returns series of given index name\n",
    "\n",
    "Let's look at a few examples:"
   ]
  },
  {
   "cell_type": "code",
   "execution_count": 26,
   "metadata": {
    "colab": {
     "base_uri": "https://localhost:8080/",
     "height": 741
    },
    "colab_type": "code",
    "executionInfo": {
     "elapsed": 2831,
     "status": "ok",
     "timestamp": 1570010749305,
     "user": {
      "displayName": "Jason Webster",
      "photoUrl": "",
      "userId": "13254939673721675351"
     },
     "user_tz": -120
    },
    "id": "K0qG_XVtUfmD",
    "outputId": "f7a852c2-572d-4d6f-b403-dd8a0b08245f"
   },
   "outputs": [
    {
     "data": {
      "text/plain": [
       "Age                         31\n",
       "Nationality            Germany\n",
       "Overall                     92\n",
       "Acceleration            58    \n",
       "Aggression              29    \n",
       "Agility                 52    \n",
       "Balance                 35    \n",
       "Ball control            48    \n",
       "Composure               70    \n",
       "Crossing                15    \n",
       "Curve                   14    \n",
       "Dribbling               30    \n",
       "Finishing               13    \n",
       "Free kick accuracy      11    \n",
       "GK diving               91    \n",
       "GK handling             90    \n",
       "GK kicking              95    \n",
       "GK positioning          91    \n",
       "GK reflexes             89    \n",
       "Heading accuracy        25    \n",
       "Interceptions           30    \n",
       "Jumping                 78    \n",
       "Long passing            59    \n",
       "Long shots              16    \n",
       "Marking                 10    \n",
       "Penalties               47    \n",
       "Positioning             12    \n",
       "Reactions               85    \n",
       "Short passing           55    \n",
       "Shot power              25    \n",
       "Sliding tackle          11    \n",
       "Sprint speed            61    \n",
       "Stamina                 44    \n",
       "Standing tackle         10    \n",
       "Strength                83    \n",
       "Vision                  70    \n",
       "Volleys                 11    \n",
       "Preferred Positions        GK \n",
       "Name: M. Neuer, dtype: object"
      ]
     },
     "execution_count": 26,
     "metadata": {},
     "output_type": "execute_result"
    }
   ],
   "source": [
    "# Select the 5th row using iloc[]\n",
    "df.iloc[4]"
   ]
  },
  {
   "cell_type": "code",
   "execution_count": 27,
   "metadata": {
    "colab": {
     "base_uri": "https://localhost:8080/",
     "height": 341
    },
    "colab_type": "code",
    "executionInfo": {
     "elapsed": 2816,
     "status": "ok",
     "timestamp": 1570010749305,
     "user": {
      "displayName": "Jason Webster",
      "photoUrl": "",
      "userId": "13254939673721675351"
     },
     "user_tz": -120
    },
    "id": "_oyvNCFaUfmH",
    "outputId": "832a5023-a51f-4bcb-8bed-edfb8d381e93"
   },
   "outputs": [
    {
     "data": {
      "text/html": [
       "<div>\n",
       "<style scoped>\n",
       "    .dataframe tbody tr th:only-of-type {\n",
       "        vertical-align: middle;\n",
       "    }\n",
       "\n",
       "    .dataframe tbody tr th {\n",
       "        vertical-align: top;\n",
       "    }\n",
       "\n",
       "    .dataframe thead th {\n",
       "        text-align: right;\n",
       "    }\n",
       "</style>\n",
       "<table border=\"1\" class=\"dataframe\">\n",
       "  <thead>\n",
       "    <tr style=\"text-align: right;\">\n",
       "      <th></th>\n",
       "      <th>Age</th>\n",
       "      <th>Nationality</th>\n",
       "      <th>Overall</th>\n",
       "      <th>Acceleration</th>\n",
       "      <th>Aggression</th>\n",
       "      <th>Agility</th>\n",
       "      <th>Balance</th>\n",
       "      <th>Ball control</th>\n",
       "      <th>Composure</th>\n",
       "      <th>Crossing</th>\n",
       "      <th>...</th>\n",
       "      <th>Short passing</th>\n",
       "      <th>Shot power</th>\n",
       "      <th>Sliding tackle</th>\n",
       "      <th>Sprint speed</th>\n",
       "      <th>Stamina</th>\n",
       "      <th>Standing tackle</th>\n",
       "      <th>Strength</th>\n",
       "      <th>Vision</th>\n",
       "      <th>Volleys</th>\n",
       "      <th>Preferred Positions</th>\n",
       "    </tr>\n",
       "    <tr>\n",
       "      <th>Name</th>\n",
       "      <th></th>\n",
       "      <th></th>\n",
       "      <th></th>\n",
       "      <th></th>\n",
       "      <th></th>\n",
       "      <th></th>\n",
       "      <th></th>\n",
       "      <th></th>\n",
       "      <th></th>\n",
       "      <th></th>\n",
       "      <th></th>\n",
       "      <th></th>\n",
       "      <th></th>\n",
       "      <th></th>\n",
       "      <th></th>\n",
       "      <th></th>\n",
       "      <th></th>\n",
       "      <th></th>\n",
       "      <th></th>\n",
       "      <th></th>\n",
       "      <th></th>\n",
       "    </tr>\n",
       "  </thead>\n",
       "  <tbody>\n",
       "    <tr>\n",
       "      <th>M. Neuer</th>\n",
       "      <td>31</td>\n",
       "      <td>Germany</td>\n",
       "      <td>92</td>\n",
       "      <td>58</td>\n",
       "      <td>29</td>\n",
       "      <td>52</td>\n",
       "      <td>35</td>\n",
       "      <td>48</td>\n",
       "      <td>70</td>\n",
       "      <td>15</td>\n",
       "      <td>...</td>\n",
       "      <td>55</td>\n",
       "      <td>25</td>\n",
       "      <td>11</td>\n",
       "      <td>61</td>\n",
       "      <td>44</td>\n",
       "      <td>10</td>\n",
       "      <td>83</td>\n",
       "      <td>70</td>\n",
       "      <td>11</td>\n",
       "      <td>GK</td>\n",
       "    </tr>\n",
       "    <tr>\n",
       "      <th>R. Lewandowski</th>\n",
       "      <td>28</td>\n",
       "      <td>Poland</td>\n",
       "      <td>91</td>\n",
       "      <td>79</td>\n",
       "      <td>80</td>\n",
       "      <td>78</td>\n",
       "      <td>80</td>\n",
       "      <td>89</td>\n",
       "      <td>87</td>\n",
       "      <td>62</td>\n",
       "      <td>...</td>\n",
       "      <td>83</td>\n",
       "      <td>88</td>\n",
       "      <td>19</td>\n",
       "      <td>83</td>\n",
       "      <td>79</td>\n",
       "      <td>42</td>\n",
       "      <td>84</td>\n",
       "      <td>78</td>\n",
       "      <td>87</td>\n",
       "      <td>ST</td>\n",
       "    </tr>\n",
       "    <tr>\n",
       "      <th>De Gea</th>\n",
       "      <td>26</td>\n",
       "      <td>Spain</td>\n",
       "      <td>90</td>\n",
       "      <td>57</td>\n",
       "      <td>38</td>\n",
       "      <td>60</td>\n",
       "      <td>43</td>\n",
       "      <td>42</td>\n",
       "      <td>64</td>\n",
       "      <td>17</td>\n",
       "      <td>...</td>\n",
       "      <td>50</td>\n",
       "      <td>31</td>\n",
       "      <td>13</td>\n",
       "      <td>58</td>\n",
       "      <td>40</td>\n",
       "      <td>21</td>\n",
       "      <td>64</td>\n",
       "      <td>68</td>\n",
       "      <td>13</td>\n",
       "      <td>GK</td>\n",
       "    </tr>\n",
       "    <tr>\n",
       "      <th>E. Hazard</th>\n",
       "      <td>26</td>\n",
       "      <td>Belgium</td>\n",
       "      <td>90</td>\n",
       "      <td>93</td>\n",
       "      <td>54</td>\n",
       "      <td>93</td>\n",
       "      <td>91</td>\n",
       "      <td>92</td>\n",
       "      <td>87</td>\n",
       "      <td>80</td>\n",
       "      <td>...</td>\n",
       "      <td>86</td>\n",
       "      <td>79</td>\n",
       "      <td>22</td>\n",
       "      <td>87</td>\n",
       "      <td>79</td>\n",
       "      <td>27</td>\n",
       "      <td>65</td>\n",
       "      <td>86</td>\n",
       "      <td>79</td>\n",
       "      <td>LW</td>\n",
       "    </tr>\n",
       "    <tr>\n",
       "      <th>T. Kroos</th>\n",
       "      <td>27</td>\n",
       "      <td>Germany</td>\n",
       "      <td>90</td>\n",
       "      <td>60</td>\n",
       "      <td>60</td>\n",
       "      <td>71</td>\n",
       "      <td>69</td>\n",
       "      <td>89</td>\n",
       "      <td>85</td>\n",
       "      <td>85</td>\n",
       "      <td>...</td>\n",
       "      <td>90</td>\n",
       "      <td>87</td>\n",
       "      <td>69</td>\n",
       "      <td>52</td>\n",
       "      <td>77</td>\n",
       "      <td>82</td>\n",
       "      <td>74</td>\n",
       "      <td>88</td>\n",
       "      <td>82</td>\n",
       "      <td>CDM CM</td>\n",
       "    </tr>\n",
       "    <tr>\n",
       "      <th>G. Higuaín</th>\n",
       "      <td>29</td>\n",
       "      <td>Argentina</td>\n",
       "      <td>90</td>\n",
       "      <td>78</td>\n",
       "      <td>50</td>\n",
       "      <td>75</td>\n",
       "      <td>69</td>\n",
       "      <td>85</td>\n",
       "      <td>86</td>\n",
       "      <td>68</td>\n",
       "      <td>...</td>\n",
       "      <td>75</td>\n",
       "      <td>88</td>\n",
       "      <td>18</td>\n",
       "      <td>80</td>\n",
       "      <td>72</td>\n",
       "      <td>22</td>\n",
       "      <td>85</td>\n",
       "      <td>70</td>\n",
       "      <td>88</td>\n",
       "      <td>ST</td>\n",
       "    </tr>\n",
       "  </tbody>\n",
       "</table>\n",
       "<p>6 rows × 38 columns</p>\n",
       "</div>"
      ],
      "text/plain": [
       "                Age Nationality  Overall Acceleration Aggression Agility  \\\n",
       "Name                                                                       \n",
       "M. Neuer         31     Germany       92       58         29      52       \n",
       "R. Lewandowski   28      Poland       91       79         80      78       \n",
       "De Gea           26       Spain       90       57         38      60       \n",
       "E. Hazard        26     Belgium       90       93         54      93       \n",
       "T. Kroos         27     Germany       90       60         60      71       \n",
       "G. Higuaín       29   Argentina       90       78         50      75       \n",
       "\n",
       "               Balance Ball control Composure Crossing  ... Short passing  \\\n",
       "Name                                                    ...                 \n",
       "M. Neuer        35           48        70       15      ...        55       \n",
       "R. Lewandowski  80           89        87       62      ...        83       \n",
       "De Gea          43           42        64       17      ...        50       \n",
       "E. Hazard       91           92        87       80      ...        86       \n",
       "T. Kroos        69           89        85       85      ...        90       \n",
       "G. Higuaín      69           85        86       68      ...        75       \n",
       "\n",
       "               Shot power Sliding tackle Sprint speed Stamina Standing tackle  \\\n",
       "Name                                                                            \n",
       "M. Neuer           25             11           61      44              10       \n",
       "R. Lewandowski     88             19           83      79              42       \n",
       "De Gea             31             13           58      40              21       \n",
       "E. Hazard          79             22           87      79              27       \n",
       "T. Kroos           87             69           52      77              82       \n",
       "G. Higuaín         88             18           80      72              22       \n",
       "\n",
       "               Strength  Vision Volleys Preferred Positions  \n",
       "Name                                                         \n",
       "M. Neuer         83      70      11                     GK   \n",
       "R. Lewandowski   84      78      87                     ST   \n",
       "De Gea           64      68      13                     GK   \n",
       "E. Hazard        65      86      79                     LW   \n",
       "T. Kroos         74      88      82                 CDM CM   \n",
       "G. Higuaín       85      70      88                     ST   \n",
       "\n",
       "[6 rows x 38 columns]"
      ]
     },
     "execution_count": 27,
     "metadata": {},
     "output_type": "execute_result"
    }
   ],
   "source": [
    "# Select rows 5 to 10\n",
    "df.iloc[4:10]"
   ]
  },
  {
   "cell_type": "code",
   "execution_count": 28,
   "metadata": {
    "colab": {
     "base_uri": "https://localhost:8080/",
     "height": 741
    },
    "colab_type": "code",
    "executionInfo": {
     "elapsed": 2803,
     "status": "ok",
     "timestamp": 1570010749306,
     "user": {
      "displayName": "Jason Webster",
      "photoUrl": "",
      "userId": "13254939673721675351"
     },
     "user_tz": -120
    },
    "id": "N8z7lzB6UfmK",
    "outputId": "28654ac1-b1ab-4215-fe14-33ed03dfe3ff"
   },
   "outputs": [
    {
     "data": {
      "text/plain": [
       "Age                         31\n",
       "Nationality            Germany\n",
       "Overall                     92\n",
       "Acceleration            58    \n",
       "Aggression              29    \n",
       "Agility                 52    \n",
       "Balance                 35    \n",
       "Ball control            48    \n",
       "Composure               70    \n",
       "Crossing                15    \n",
       "Curve                   14    \n",
       "Dribbling               30    \n",
       "Finishing               13    \n",
       "Free kick accuracy      11    \n",
       "GK diving               91    \n",
       "GK handling             90    \n",
       "GK kicking              95    \n",
       "GK positioning          91    \n",
       "GK reflexes             89    \n",
       "Heading accuracy        25    \n",
       "Interceptions           30    \n",
       "Jumping                 78    \n",
       "Long passing            59    \n",
       "Long shots              16    \n",
       "Marking                 10    \n",
       "Penalties               47    \n",
       "Positioning             12    \n",
       "Reactions               85    \n",
       "Short passing           55    \n",
       "Shot power              25    \n",
       "Sliding tackle          11    \n",
       "Sprint speed            61    \n",
       "Stamina                 44    \n",
       "Standing tackle         10    \n",
       "Strength                83    \n",
       "Vision                  70    \n",
       "Volleys                 11    \n",
       "Preferred Positions        GK \n",
       "Name: M. Neuer, dtype: object"
      ]
     },
     "execution_count": 28,
     "metadata": {},
     "output_type": "execute_result"
    }
   ],
   "source": [
    "# Select the M. Neuer index using loc[]\n",
    "df.loc['M. Neuer']"
   ]
  },
  {
   "cell_type": "markdown",
   "metadata": {
    "colab_type": "text",
    "id": "BjZayQJsUfmN"
   },
   "source": [
    "### By Column"
   ]
  },
  {
   "cell_type": "markdown",
   "metadata": {
    "colab_type": "text",
    "id": "qf-HabPrUfmN"
   },
   "source": [
    "To access by column only we can do so by simply calling `dataframe['Column Name']`. If we want more than one column we input a list of column names inside the square brackets. Eg:\n",
    "\n",
    "* dataframe['Column Name'] - returns series of given column\n",
    "* dataframe[['Column 1', 'Column 2']] - returns dataframe with the given columns\n",
    "\n",
    "Let's look at examples:"
   ]
  },
  {
   "cell_type": "code",
   "execution_count": 29,
   "metadata": {
    "colab": {
     "base_uri": "https://localhost:8080/",
     "height": 1000
    },
    "colab_type": "code",
    "executionInfo": {
     "elapsed": 2790,
     "status": "ok",
     "timestamp": 1570010749307,
     "user": {
      "displayName": "Jason Webster",
      "photoUrl": "",
      "userId": "13254939673721675351"
     },
     "user_tz": -120
    },
    "id": "bEXSA9FLUfmO",
    "outputId": "ed2a76ce-b356-4e1d-b6b2-61b6ceceef40"
   },
   "outputs": [
    {
     "data": {
      "text/plain": [
       "Name\n",
       "Cristiano Ronaldo    32\n",
       "L. Messi             30\n",
       "Neymar               25\n",
       "L. Suárez            30\n",
       "M. Neuer             31\n",
       "                     ..\n",
       "A. Kelsey            17\n",
       "B. Richardson        47\n",
       "J. Young             17\n",
       "J. Lundstram         18\n",
       "L. Sackey            18\n",
       "Name: Age, Length: 17981, dtype: int64"
      ]
     },
     "execution_count": 29,
     "metadata": {},
     "output_type": "execute_result"
    }
   ],
   "source": [
    "# Select the column 'Age'\n",
    "df['Age']"
   ]
  },
  {
   "cell_type": "code",
   "execution_count": 30,
   "metadata": {
    "colab": {
     "base_uri": "https://localhost:8080/",
     "height": 1000
    },
    "colab_type": "code",
    "executionInfo": {
     "elapsed": 2777,
     "status": "ok",
     "timestamp": 1570010749308,
     "user": {
      "displayName": "Jason Webster",
      "photoUrl": "",
      "userId": "13254939673721675351"
     },
     "user_tz": -120
    },
    "id": "VtHE_42WUfmU",
    "outputId": "16745a87-b5ff-4e69-98e3-440de53739b9"
   },
   "outputs": [
    {
     "data": {
      "text/html": [
       "<div>\n",
       "<style scoped>\n",
       "    .dataframe tbody tr th:only-of-type {\n",
       "        vertical-align: middle;\n",
       "    }\n",
       "\n",
       "    .dataframe tbody tr th {\n",
       "        vertical-align: top;\n",
       "    }\n",
       "\n",
       "    .dataframe thead th {\n",
       "        text-align: right;\n",
       "    }\n",
       "</style>\n",
       "<table border=\"1\" class=\"dataframe\">\n",
       "  <thead>\n",
       "    <tr style=\"text-align: right;\">\n",
       "      <th></th>\n",
       "      <th>Age</th>\n",
       "      <th>Nationality</th>\n",
       "    </tr>\n",
       "    <tr>\n",
       "      <th>Name</th>\n",
       "      <th></th>\n",
       "      <th></th>\n",
       "    </tr>\n",
       "  </thead>\n",
       "  <tbody>\n",
       "    <tr>\n",
       "      <th>Cristiano Ronaldo</th>\n",
       "      <td>32</td>\n",
       "      <td>Portugal</td>\n",
       "    </tr>\n",
       "    <tr>\n",
       "      <th>L. Messi</th>\n",
       "      <td>30</td>\n",
       "      <td>Argentina</td>\n",
       "    </tr>\n",
       "    <tr>\n",
       "      <th>Neymar</th>\n",
       "      <td>25</td>\n",
       "      <td>Brazil</td>\n",
       "    </tr>\n",
       "    <tr>\n",
       "      <th>L. Suárez</th>\n",
       "      <td>30</td>\n",
       "      <td>Uruguay</td>\n",
       "    </tr>\n",
       "    <tr>\n",
       "      <th>M. Neuer</th>\n",
       "      <td>31</td>\n",
       "      <td>Germany</td>\n",
       "    </tr>\n",
       "    <tr>\n",
       "      <th>...</th>\n",
       "      <td>...</td>\n",
       "      <td>...</td>\n",
       "    </tr>\n",
       "    <tr>\n",
       "      <th>A. Kelsey</th>\n",
       "      <td>17</td>\n",
       "      <td>England</td>\n",
       "    </tr>\n",
       "    <tr>\n",
       "      <th>B. Richardson</th>\n",
       "      <td>47</td>\n",
       "      <td>England</td>\n",
       "    </tr>\n",
       "    <tr>\n",
       "      <th>J. Young</th>\n",
       "      <td>17</td>\n",
       "      <td>Scotland</td>\n",
       "    </tr>\n",
       "    <tr>\n",
       "      <th>J. Lundstram</th>\n",
       "      <td>18</td>\n",
       "      <td>England</td>\n",
       "    </tr>\n",
       "    <tr>\n",
       "      <th>L. Sackey</th>\n",
       "      <td>18</td>\n",
       "      <td>Ghana</td>\n",
       "    </tr>\n",
       "  </tbody>\n",
       "</table>\n",
       "<p>17981 rows × 2 columns</p>\n",
       "</div>"
      ],
      "text/plain": [
       "                   Age Nationality\n",
       "Name                              \n",
       "Cristiano Ronaldo   32    Portugal\n",
       "L. Messi            30   Argentina\n",
       "Neymar              25      Brazil\n",
       "L. Suárez           30     Uruguay\n",
       "M. Neuer            31     Germany\n",
       "...                ...         ...\n",
       "A. Kelsey           17     England\n",
       "B. Richardson       47     England\n",
       "J. Young            17    Scotland\n",
       "J. Lundstram        18     England\n",
       "L. Sackey           18       Ghana\n",
       "\n",
       "[17981 rows x 2 columns]"
      ]
     },
     "execution_count": 30,
     "metadata": {},
     "output_type": "execute_result"
    }
   ],
   "source": [
    "# Select the columns 'Age' and 'Nationality'\n",
    "df[['Age', 'Nationality']]"
   ]
  },
  {
   "cell_type": "markdown",
   "metadata": {
    "colab_type": "text",
    "id": "n2hVKzjWUfma"
   },
   "source": [
    "### By index and Column"
   ]
  },
  {
   "cell_type": "markdown",
   "metadata": {
    "colab_type": "text",
    "id": "M8QijO_MUfmc"
   },
   "source": [
    "We can also select a subset of the dataframe using indices and columns in combination. Let's look at a few examples:"
   ]
  },
  {
   "cell_type": "code",
   "execution_count": 31,
   "metadata": {
    "colab": {
     "base_uri": "https://localhost:8080/",
     "height": 237
    },
    "colab_type": "code",
    "executionInfo": {
     "elapsed": 2769,
     "status": "ok",
     "timestamp": 1570010749308,
     "user": {
      "displayName": "Jason Webster",
      "photoUrl": "",
      "userId": "13254939673721675351"
     },
     "user_tz": -120
    },
    "id": "-jYxbgx9Ufmd",
    "outputId": "723a93a9-8115-4685-b8db-feafccceaffb"
   },
   "outputs": [
    {
     "data": {
      "text/html": [
       "<div>\n",
       "<style scoped>\n",
       "    .dataframe tbody tr th:only-of-type {\n",
       "        vertical-align: middle;\n",
       "    }\n",
       "\n",
       "    .dataframe tbody tr th {\n",
       "        vertical-align: top;\n",
       "    }\n",
       "\n",
       "    .dataframe thead th {\n",
       "        text-align: right;\n",
       "    }\n",
       "</style>\n",
       "<table border=\"1\" class=\"dataframe\">\n",
       "  <thead>\n",
       "    <tr style=\"text-align: right;\">\n",
       "      <th></th>\n",
       "      <th>Age</th>\n",
       "      <th>Nationality</th>\n",
       "    </tr>\n",
       "    <tr>\n",
       "      <th>Name</th>\n",
       "      <th></th>\n",
       "      <th></th>\n",
       "    </tr>\n",
       "  </thead>\n",
       "  <tbody>\n",
       "    <tr>\n",
       "      <th>Cristiano Ronaldo</th>\n",
       "      <td>32</td>\n",
       "      <td>Portugal</td>\n",
       "    </tr>\n",
       "    <tr>\n",
       "      <th>L. Messi</th>\n",
       "      <td>30</td>\n",
       "      <td>Argentina</td>\n",
       "    </tr>\n",
       "    <tr>\n",
       "      <th>Neymar</th>\n",
       "      <td>25</td>\n",
       "      <td>Brazil</td>\n",
       "    </tr>\n",
       "    <tr>\n",
       "      <th>L. Suárez</th>\n",
       "      <td>30</td>\n",
       "      <td>Uruguay</td>\n",
       "    </tr>\n",
       "    <tr>\n",
       "      <th>M. Neuer</th>\n",
       "      <td>31</td>\n",
       "      <td>Germany</td>\n",
       "    </tr>\n",
       "  </tbody>\n",
       "</table>\n",
       "</div>"
      ],
      "text/plain": [
       "                   Age Nationality\n",
       "Name                              \n",
       "Cristiano Ronaldo   32    Portugal\n",
       "L. Messi            30   Argentina\n",
       "Neymar              25      Brazil\n",
       "L. Suárez           30     Uruguay\n",
       "M. Neuer            31     Germany"
      ]
     },
     "execution_count": 31,
     "metadata": {},
     "output_type": "execute_result"
    }
   ],
   "source": [
    "# Select the first 5 rows and first 2 columns - Rows first\n",
    "df.iloc[0:5][['Age', 'Nationality']]"
   ]
  },
  {
   "cell_type": "code",
   "execution_count": 32,
   "metadata": {
    "colab": {
     "base_uri": "https://localhost:8080/",
     "height": 237
    },
    "colab_type": "code",
    "executionInfo": {
     "elapsed": 2767,
     "status": "ok",
     "timestamp": 1570010749310,
     "user": {
      "displayName": "Jason Webster",
      "photoUrl": "",
      "userId": "13254939673721675351"
     },
     "user_tz": -120
    },
    "id": "ltS8JwISUfmf",
    "outputId": "14effb00-ee4f-4c99-ef20-08a7b7224f28"
   },
   "outputs": [
    {
     "data": {
      "text/html": [
       "<div>\n",
       "<style scoped>\n",
       "    .dataframe tbody tr th:only-of-type {\n",
       "        vertical-align: middle;\n",
       "    }\n",
       "\n",
       "    .dataframe tbody tr th {\n",
       "        vertical-align: top;\n",
       "    }\n",
       "\n",
       "    .dataframe thead th {\n",
       "        text-align: right;\n",
       "    }\n",
       "</style>\n",
       "<table border=\"1\" class=\"dataframe\">\n",
       "  <thead>\n",
       "    <tr style=\"text-align: right;\">\n",
       "      <th></th>\n",
       "      <th>Age</th>\n",
       "      <th>Nationality</th>\n",
       "    </tr>\n",
       "    <tr>\n",
       "      <th>Name</th>\n",
       "      <th></th>\n",
       "      <th></th>\n",
       "    </tr>\n",
       "  </thead>\n",
       "  <tbody>\n",
       "    <tr>\n",
       "      <th>Cristiano Ronaldo</th>\n",
       "      <td>32</td>\n",
       "      <td>Portugal</td>\n",
       "    </tr>\n",
       "    <tr>\n",
       "      <th>L. Messi</th>\n",
       "      <td>30</td>\n",
       "      <td>Argentina</td>\n",
       "    </tr>\n",
       "    <tr>\n",
       "      <th>Neymar</th>\n",
       "      <td>25</td>\n",
       "      <td>Brazil</td>\n",
       "    </tr>\n",
       "    <tr>\n",
       "      <th>L. Suárez</th>\n",
       "      <td>30</td>\n",
       "      <td>Uruguay</td>\n",
       "    </tr>\n",
       "    <tr>\n",
       "      <th>M. Neuer</th>\n",
       "      <td>31</td>\n",
       "      <td>Germany</td>\n",
       "    </tr>\n",
       "  </tbody>\n",
       "</table>\n",
       "</div>"
      ],
      "text/plain": [
       "                   Age Nationality\n",
       "Name                              \n",
       "Cristiano Ronaldo   32    Portugal\n",
       "L. Messi            30   Argentina\n",
       "Neymar              25      Brazil\n",
       "L. Suárez           30     Uruguay\n",
       "M. Neuer            31     Germany"
      ]
     },
     "execution_count": 32,
     "metadata": {},
     "output_type": "execute_result"
    }
   ],
   "source": [
    "# Select the first 5 rows and first 2 columns - Columns first\n",
    "df[['Age', 'Nationality']].iloc[0:5]"
   ]
  },
  {
   "cell_type": "markdown",
   "metadata": {
    "colab_type": "text",
    "id": "JSvXaMiF3mMq"
   },
   "source": [
    "## When to use Dataframes"
   ]
  },
  {
   "cell_type": "markdown",
   "metadata": {
    "colab_type": "text",
    "id": "8hrsFXbEGNDT"
   },
   "source": [
    "Unlike the numpy array which is suited for storing and performing computations on homogenous data (data of the same type), pandas dataframes can accommodate heterogenous data. This makes them the choice data structure for manipulating often messy statistical data (e.g tabular data from spreadsheets, or SQL tables). \n",
    "\n",
    "We should use a pandas dataframe if all of the following statements hold:\n",
    "\n",
    "* We have 2-dimensional data (rows and columns)\n",
    "* The data type is the same within a column\n",
    "* We are interested in the index (rows) and column names\n",
    "\n"
   ]
  },
  {
   "cell_type": "markdown",
   "metadata": {
    "colab_type": "text",
    "id": "NoQZQBzHrfQk"
   },
   "source": [
    "## Exercises\n",
    "\n",
    "Here are some exercises for you to try out. The solutions can be found at the end of this train."
   ]
  },
  {
   "cell_type": "markdown",
   "metadata": {
    "colab_type": "text",
    "id": "ng_Kxs_HrpDA"
   },
   "source": [
    "Exercise 1:\n",
    "\n",
    "Select rows 9-14 of the dataframe."
   ]
  },
  {
   "cell_type": "code",
   "execution_count": 33,
   "metadata": {
    "colab": {},
    "colab_type": "code",
    "id": "0rWhOcxWMmlw"
   },
   "outputs": [],
   "source": [
    "# Answer here"
   ]
  },
  {
   "cell_type": "markdown",
   "metadata": {
    "colab_type": "text",
    "id": "zhmzkvmbrpSB"
   },
   "source": [
    "Exercise 2:\n",
    "\n",
    "Select, in order, only the \"Preferred Positions\", \"Overall\" and \"Age\" columns for Neymar."
   ]
  },
  {
   "cell_type": "code",
   "execution_count": 34,
   "metadata": {
    "colab": {},
    "colab_type": "code",
    "id": "f0sCyS5NMmlz"
   },
   "outputs": [],
   "source": [
    "# Answer here"
   ]
  },
  {
   "cell_type": "markdown",
   "metadata": {
    "colab_type": "text",
    "id": "3mjhDVtNrpdp"
   },
   "source": [
    "Exercise 3:\n",
    "\n",
    "Select, in order, only the \"Overall\", \"Age\" and \"Nationality\" columns for all players with ages of 35 years or older"
   ]
  },
  {
   "cell_type": "code",
   "execution_count": 35,
   "metadata": {
    "colab": {},
    "colab_type": "code",
    "id": "CZn1Ln1JMml1"
   },
   "outputs": [],
   "source": [
    "# Answer here"
   ]
  },
  {
   "cell_type": "markdown",
   "metadata": {
    "colab_type": "text",
    "id": "-eErXeFbUfmk"
   },
   "source": [
    "# Conclusion\n",
    "In this tutorial, you learned how to do the following:\n",
    "* Basic operations in Numpy\n",
    "* Basic operations in Pandas\n",
    "* Load, manipulate and alayse data using Numpy and Pandas\n",
    "\n",
    "That is the end of this tutorial. You should have a better understanding of what an array is and how to work with numpy arrays as well as what a pandas dataframe is and how to create and access it. In the future, we will look at useful functions of dataframes and when to use them as the chosen data structure."
   ]
  },
  {
   "cell_type": "markdown",
   "metadata": {
    "colab_type": "text",
    "id": "PBHRoK3uuZNP"
   },
   "source": [
    "## Solutions"
   ]
  },
  {
   "cell_type": "code",
   "execution_count": 36,
   "metadata": {
    "colab": {},
    "colab_type": "code",
    "id": "9HXLA4hKuiI7",
    "outputId": "955956b5-4a86-4e66-dd6b-32dc4536e3fc"
   },
   "outputs": [
    {
     "data": {
      "text/html": [
       "<div>\n",
       "<style scoped>\n",
       "    .dataframe tbody tr th:only-of-type {\n",
       "        vertical-align: middle;\n",
       "    }\n",
       "\n",
       "    .dataframe tbody tr th {\n",
       "        vertical-align: top;\n",
       "    }\n",
       "\n",
       "    .dataframe thead th {\n",
       "        text-align: right;\n",
       "    }\n",
       "</style>\n",
       "<table border=\"1\" class=\"dataframe\">\n",
       "  <thead>\n",
       "    <tr style=\"text-align: right;\">\n",
       "      <th></th>\n",
       "      <th>Age</th>\n",
       "      <th>Nationality</th>\n",
       "      <th>Overall</th>\n",
       "      <th>Acceleration</th>\n",
       "      <th>Aggression</th>\n",
       "      <th>Agility</th>\n",
       "      <th>Balance</th>\n",
       "      <th>Ball control</th>\n",
       "      <th>Composure</th>\n",
       "      <th>Crossing</th>\n",
       "      <th>...</th>\n",
       "      <th>Short passing</th>\n",
       "      <th>Shot power</th>\n",
       "      <th>Sliding tackle</th>\n",
       "      <th>Sprint speed</th>\n",
       "      <th>Stamina</th>\n",
       "      <th>Standing tackle</th>\n",
       "      <th>Strength</th>\n",
       "      <th>Vision</th>\n",
       "      <th>Volleys</th>\n",
       "      <th>Preferred Positions</th>\n",
       "    </tr>\n",
       "    <tr>\n",
       "      <th>Name</th>\n",
       "      <th></th>\n",
       "      <th></th>\n",
       "      <th></th>\n",
       "      <th></th>\n",
       "      <th></th>\n",
       "      <th></th>\n",
       "      <th></th>\n",
       "      <th></th>\n",
       "      <th></th>\n",
       "      <th></th>\n",
       "      <th></th>\n",
       "      <th></th>\n",
       "      <th></th>\n",
       "      <th></th>\n",
       "      <th></th>\n",
       "      <th></th>\n",
       "      <th></th>\n",
       "      <th></th>\n",
       "      <th></th>\n",
       "      <th></th>\n",
       "      <th></th>\n",
       "    </tr>\n",
       "  </thead>\n",
       "  <tbody>\n",
       "    <tr>\n",
       "      <th>T. Kroos</th>\n",
       "      <td>27</td>\n",
       "      <td>Germany</td>\n",
       "      <td>90</td>\n",
       "      <td>60</td>\n",
       "      <td>60</td>\n",
       "      <td>71</td>\n",
       "      <td>69</td>\n",
       "      <td>89</td>\n",
       "      <td>85</td>\n",
       "      <td>85</td>\n",
       "      <td>...</td>\n",
       "      <td>90</td>\n",
       "      <td>87</td>\n",
       "      <td>69</td>\n",
       "      <td>52</td>\n",
       "      <td>77</td>\n",
       "      <td>82</td>\n",
       "      <td>74</td>\n",
       "      <td>88</td>\n",
       "      <td>82</td>\n",
       "      <td>CDM CM</td>\n",
       "    </tr>\n",
       "    <tr>\n",
       "      <th>G. Higuaín</th>\n",
       "      <td>29</td>\n",
       "      <td>Argentina</td>\n",
       "      <td>90</td>\n",
       "      <td>78</td>\n",
       "      <td>50</td>\n",
       "      <td>75</td>\n",
       "      <td>69</td>\n",
       "      <td>85</td>\n",
       "      <td>86</td>\n",
       "      <td>68</td>\n",
       "      <td>...</td>\n",
       "      <td>75</td>\n",
       "      <td>88</td>\n",
       "      <td>18</td>\n",
       "      <td>80</td>\n",
       "      <td>72</td>\n",
       "      <td>22</td>\n",
       "      <td>85</td>\n",
       "      <td>70</td>\n",
       "      <td>88</td>\n",
       "      <td>ST</td>\n",
       "    </tr>\n",
       "    <tr>\n",
       "      <th>Sergio Ramos</th>\n",
       "      <td>31</td>\n",
       "      <td>Spain</td>\n",
       "      <td>90</td>\n",
       "      <td>75</td>\n",
       "      <td>84</td>\n",
       "      <td>79</td>\n",
       "      <td>60</td>\n",
       "      <td>84</td>\n",
       "      <td>80</td>\n",
       "      <td>66</td>\n",
       "      <td>...</td>\n",
       "      <td>78</td>\n",
       "      <td>79</td>\n",
       "      <td>91</td>\n",
       "      <td>77</td>\n",
       "      <td>84</td>\n",
       "      <td>89</td>\n",
       "      <td>81</td>\n",
       "      <td>63</td>\n",
       "      <td>66</td>\n",
       "      <td>CB</td>\n",
       "    </tr>\n",
       "    <tr>\n",
       "      <th>K. De Bruyne</th>\n",
       "      <td>26</td>\n",
       "      <td>Belgium</td>\n",
       "      <td>89</td>\n",
       "      <td>76</td>\n",
       "      <td>68</td>\n",
       "      <td>80</td>\n",
       "      <td>75</td>\n",
       "      <td>87</td>\n",
       "      <td>84</td>\n",
       "      <td>90</td>\n",
       "      <td>...</td>\n",
       "      <td>90</td>\n",
       "      <td>85</td>\n",
       "      <td>40</td>\n",
       "      <td>75</td>\n",
       "      <td>87</td>\n",
       "      <td>51</td>\n",
       "      <td>73</td>\n",
       "      <td>90</td>\n",
       "      <td>82</td>\n",
       "      <td>RM CM CAM</td>\n",
       "    </tr>\n",
       "    <tr>\n",
       "      <th>T. Courtois</th>\n",
       "      <td>25</td>\n",
       "      <td>Belgium</td>\n",
       "      <td>89</td>\n",
       "      <td>46</td>\n",
       "      <td>23</td>\n",
       "      <td>61</td>\n",
       "      <td>45</td>\n",
       "      <td>23</td>\n",
       "      <td>52</td>\n",
       "      <td>14</td>\n",
       "      <td>...</td>\n",
       "      <td>32</td>\n",
       "      <td>36</td>\n",
       "      <td>16</td>\n",
       "      <td>52</td>\n",
       "      <td>38</td>\n",
       "      <td>18</td>\n",
       "      <td>70</td>\n",
       "      <td>44</td>\n",
       "      <td>12</td>\n",
       "      <td>GK</td>\n",
       "    </tr>\n",
       "    <tr>\n",
       "      <th>A. Sánchez</th>\n",
       "      <td>28</td>\n",
       "      <td>Chile</td>\n",
       "      <td>89</td>\n",
       "      <td>88</td>\n",
       "      <td>80</td>\n",
       "      <td>90</td>\n",
       "      <td>87</td>\n",
       "      <td>87</td>\n",
       "      <td>86</td>\n",
       "      <td>80</td>\n",
       "      <td>...</td>\n",
       "      <td>81</td>\n",
       "      <td>84</td>\n",
       "      <td>35</td>\n",
       "      <td>84</td>\n",
       "      <td>85</td>\n",
       "      <td>39</td>\n",
       "      <td>72</td>\n",
       "      <td>83</td>\n",
       "      <td>83</td>\n",
       "      <td>RM LW ST LM</td>\n",
       "    </tr>\n",
       "  </tbody>\n",
       "</table>\n",
       "<p>6 rows × 38 columns</p>\n",
       "</div>"
      ],
      "text/plain": [
       "              Age Nationality  Overall Acceleration Aggression Agility  \\\n",
       "Name                                                                     \n",
       "T. Kroos       27     Germany       90       60         60      71       \n",
       "G. Higuaín     29   Argentina       90       78         50      75       \n",
       "Sergio Ramos   31       Spain       90       75         84      79       \n",
       "K. De Bruyne   26     Belgium       89       76         68      80       \n",
       "T. Courtois    25     Belgium       89       46         23      61       \n",
       "A. Sánchez     28       Chile       89       88         80      90       \n",
       "\n",
       "             Balance Ball control Composure Crossing  ... Short passing  \\\n",
       "Name                                                  ...                 \n",
       "T. Kroos      69           89        85       85      ...        90       \n",
       "G. Higuaín    69           85        86       68      ...        75       \n",
       "Sergio Ramos  60           84        80       66      ...        78       \n",
       "K. De Bruyne  75           87        84       90      ...        90       \n",
       "T. Courtois   45           23        52       14      ...        32       \n",
       "A. Sánchez    87           87        86       80      ...        81       \n",
       "\n",
       "             Shot power Sliding tackle Sprint speed Stamina Standing tackle  \\\n",
       "Name                                                                          \n",
       "T. Kroos         87             69           52      77              82       \n",
       "G. Higuaín       88             18           80      72              22       \n",
       "Sergio Ramos     79             91           77      84              89       \n",
       "K. De Bruyne     85             40           75      87              51       \n",
       "T. Courtois      36             16           52      38              18       \n",
       "A. Sánchez       84             35           84      85              39       \n",
       "\n",
       "             Strength  Vision Volleys Preferred Positions  \n",
       "Name                                                       \n",
       "T. Kroos       74      88      82                 CDM CM   \n",
       "G. Higuaín     85      70      88                     ST   \n",
       "Sergio Ramos   81      63      66                     CB   \n",
       "K. De Bruyne   73      90      82              RM CM CAM   \n",
       "T. Courtois    70      44      12                     GK   \n",
       "A. Sánchez     72      83      83            RM LW ST LM   \n",
       "\n",
       "[6 rows x 38 columns]"
      ]
     },
     "execution_count": 36,
     "metadata": {},
     "output_type": "execute_result"
    }
   ],
   "source": [
    "# Exercise 1 solution\n",
    "\n",
    "df.iloc[8:14]"
   ]
  },
  {
   "cell_type": "code",
   "execution_count": 37,
   "metadata": {
    "colab": {},
    "colab_type": "code",
    "id": "3PoaFPYUuiQa",
    "outputId": "df6c3300-1907-486a-faea-33f2fbf3c701"
   },
   "outputs": [
    {
     "data": {
      "text/plain": [
       "Preferred Positions    LW \n",
       "Overall                 92\n",
       "Age                     25\n",
       "Name: Neymar, dtype: object"
      ]
     },
     "execution_count": 37,
     "metadata": {},
     "output_type": "execute_result"
    }
   ],
   "source": [
    "# Exercise 2 solution\n",
    "\n",
    "df.iloc[2][['Preferred Positions', 'Overall', 'Age']]"
   ]
  },
  {
   "cell_type": "code",
   "execution_count": 38,
   "metadata": {
    "colab": {},
    "colab_type": "code",
    "id": "O5MP6-PCuiZC",
    "outputId": "054a531b-c1f4-4b9d-f4b1-d79efcf54702"
   },
   "outputs": [
    {
     "data": {
      "text/html": [
       "<div>\n",
       "<style scoped>\n",
       "    .dataframe tbody tr th:only-of-type {\n",
       "        vertical-align: middle;\n",
       "    }\n",
       "\n",
       "    .dataframe tbody tr th {\n",
       "        vertical-align: top;\n",
       "    }\n",
       "\n",
       "    .dataframe thead th {\n",
       "        text-align: right;\n",
       "    }\n",
       "</style>\n",
       "<table border=\"1\" class=\"dataframe\">\n",
       "  <thead>\n",
       "    <tr style=\"text-align: right;\">\n",
       "      <th></th>\n",
       "      <th>Overall</th>\n",
       "      <th>Age</th>\n",
       "      <th>Nationality</th>\n",
       "    </tr>\n",
       "    <tr>\n",
       "      <th>Name</th>\n",
       "      <th></th>\n",
       "      <th></th>\n",
       "      <th></th>\n",
       "    </tr>\n",
       "  </thead>\n",
       "  <tbody>\n",
       "    <tr>\n",
       "      <th>G. Buffon</th>\n",
       "      <td>89</td>\n",
       "      <td>39</td>\n",
       "      <td>Italy</td>\n",
       "    </tr>\n",
       "    <tr>\n",
       "      <th>Z. Ibrahimović</th>\n",
       "      <td>88</td>\n",
       "      <td>35</td>\n",
       "      <td>Sweden</td>\n",
       "    </tr>\n",
       "    <tr>\n",
       "      <th>P. Čech</th>\n",
       "      <td>86</td>\n",
       "      <td>35</td>\n",
       "      <td>Czech Republic</td>\n",
       "    </tr>\n",
       "    <tr>\n",
       "      <th>A. Barzagli</th>\n",
       "      <td>85</td>\n",
       "      <td>36</td>\n",
       "      <td>Italy</td>\n",
       "    </tr>\n",
       "    <tr>\n",
       "      <th>Aduriz</th>\n",
       "      <td>84</td>\n",
       "      <td>36</td>\n",
       "      <td>Spain</td>\n",
       "    </tr>\n",
       "    <tr>\n",
       "      <th>...</th>\n",
       "      <td>...</td>\n",
       "      <td>...</td>\n",
       "      <td>...</td>\n",
       "    </tr>\n",
       "    <tr>\n",
       "      <th>R. Kawai</th>\n",
       "      <td>52</td>\n",
       "      <td>38</td>\n",
       "      <td>Japan</td>\n",
       "    </tr>\n",
       "    <tr>\n",
       "      <th>Y. Nishibe</th>\n",
       "      <td>52</td>\n",
       "      <td>36</td>\n",
       "      <td>Japan</td>\n",
       "    </tr>\n",
       "    <tr>\n",
       "      <th>A. Al Basisi</th>\n",
       "      <td>52</td>\n",
       "      <td>39</td>\n",
       "      <td>Saudi Arabia</td>\n",
       "    </tr>\n",
       "    <tr>\n",
       "      <th>P. Jennings</th>\n",
       "      <td>52</td>\n",
       "      <td>37</td>\n",
       "      <td>England</td>\n",
       "    </tr>\n",
       "    <tr>\n",
       "      <th>B. Richardson</th>\n",
       "      <td>46</td>\n",
       "      <td>47</td>\n",
       "      <td>England</td>\n",
       "    </tr>\n",
       "  </tbody>\n",
       "</table>\n",
       "<p>468 rows × 3 columns</p>\n",
       "</div>"
      ],
      "text/plain": [
       "                Overall  Age     Nationality\n",
       "Name                                        \n",
       "G. Buffon            89   39           Italy\n",
       "Z. Ibrahimović       88   35          Sweden\n",
       "P. Čech              86   35  Czech Republic\n",
       "A. Barzagli          85   36           Italy\n",
       "Aduriz               84   36           Spain\n",
       "...                 ...  ...             ...\n",
       "R. Kawai             52   38           Japan\n",
       "Y. Nishibe           52   36           Japan\n",
       "A. Al Basisi         52   39    Saudi Arabia\n",
       "P. Jennings          52   37         England\n",
       "B. Richardson        46   47         England\n",
       "\n",
       "[468 rows x 3 columns]"
      ]
     },
     "execution_count": 38,
     "metadata": {},
     "output_type": "execute_result"
    }
   ],
   "source": [
    "# Exercise 3 solution\n",
    "\n",
    "df[['Overall', 'Age', 'Nationality']][df['Age'] >= 35]"
   ]
  },
  {
   "cell_type": "markdown",
   "metadata": {
    "colab_type": "text",
    "id": "-7awYAplE1Ac"
   },
   "source": [
    "# Appendix\n",
    "Additional links:\n",
    "\n",
    "[Numpy package home page](https://numpy.org/0)\n",
    "\n",
    "[Pandas package home page](https://pandas.pydata.org/)"
   ]
  },
  {
   "cell_type": "code",
   "execution_count": 1,
   "metadata": {},
   "outputs": [],
   "source": [
    "import pandas as pd"
   ]
  },
  {
   "cell_type": "code",
   "execution_count": 2,
   "metadata": {},
   "outputs": [
    {
     "data": {
      "text/html": [
       "<div>\n",
       "<style scoped>\n",
       "    .dataframe tbody tr th:only-of-type {\n",
       "        vertical-align: middle;\n",
       "    }\n",
       "\n",
       "    .dataframe tbody tr th {\n",
       "        vertical-align: top;\n",
       "    }\n",
       "\n",
       "    .dataframe thead th {\n",
       "        text-align: right;\n",
       "    }\n",
       "</style>\n",
       "<table border=\"1\" class=\"dataframe\">\n",
       "  <thead>\n",
       "    <tr style=\"text-align: right;\">\n",
       "      <th></th>\n",
       "      <th>Age</th>\n",
       "      <th>Nationality</th>\n",
       "      <th>Overall</th>\n",
       "    </tr>\n",
       "  </thead>\n",
       "  <tbody>\n",
       "    <tr>\n",
       "      <th>Christiano Ronaldo</th>\n",
       "      <td>32</td>\n",
       "      <td>Portugal</td>\n",
       "      <td>94</td>\n",
       "    </tr>\n",
       "    <tr>\n",
       "      <th>Lionel Messi</th>\n",
       "      <td>30</td>\n",
       "      <td>Argentina</td>\n",
       "      <td>93</td>\n",
       "    </tr>\n",
       "    <tr>\n",
       "      <th>Neymar</th>\n",
       "      <td>25</td>\n",
       "      <td>Brazil</td>\n",
       "      <td>92</td>\n",
       "    </tr>\n",
       "  </tbody>\n",
       "</table>\n",
       "</div>"
      ],
      "text/plain": [
       "                    Age Nationality  Overall\n",
       "Christiano Ronaldo   32    Portugal       94\n",
       "Lionel Messi         30   Argentina       93\n",
       "Neymar               25      Brazil       92"
      ]
     },
     "execution_count": 2,
     "metadata": {},
     "output_type": "execute_result"
    }
   ],
   "source": [
    "# Create list of lists containing data\n",
    "list_df = [[32, 'Portugal', 94], [30, 'Argentina', 93], [25 , 'Brazil', 92]]\n",
    "\n",
    "# Create index - names of players\n",
    "index = ['Christiano Ronaldo', 'Lionel Messi', 'Neymar']\n",
    "\n",
    "# Create column names \n",
    "columns = ['Age', 'Nationality', 'Overall']\n",
    "\n",
    "# Create dataframe by passing in data, index and columns\n",
    "pd.DataFrame(data=list_df, index=index, columns=columns)"
   ]
  },
  {
   "cell_type": "code",
   "execution_count": null,
   "metadata": {},
   "outputs": [],
   "source": []
  }
 ],
 "metadata": {
  "colab": {
   "collapsed_sections": [],
   "name": "intro_to_numpy_and_pandas.ipynb",
   "provenance": []
  },
  "kernelspec": {
   "display_name": "Python 3",
   "language": "python",
   "name": "python3"
  },
  "language_info": {
   "codemirror_mode": {
    "name": "ipython",
    "version": 3
   },
   "file_extension": ".py",
   "mimetype": "text/x-python",
   "name": "python",
   "nbconvert_exporter": "python",
   "pygments_lexer": "ipython3",
   "version": "3.7.6"
  }
 },
 "nbformat": 4,
 "nbformat_minor": 1
}
